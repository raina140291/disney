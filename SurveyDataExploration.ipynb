{
  "nbformat": 4,
  "nbformat_minor": 0,
  "metadata": {
    "colab": {
      "name": "SurveyDataExploration.ipynb",
      "provenance": [],
      "collapsed_sections": [],
      "authorship_tag": "ABX9TyMDm1K7TArx6cnVrE9A74+7",
      "include_colab_link": true
    },
    "kernelspec": {
      "name": "python3",
      "display_name": "Python 3"
    }
  },
  "cells": [
    {
      "cell_type": "markdown",
      "metadata": {
        "id": "view-in-github",
        "colab_type": "text"
      },
      "source": [
        "<a href=\"https://colab.research.google.com/github/raina140291/disney/blob/master/SurveyDataExploration.ipynb\" target=\"_parent\"><img src=\"https://colab.research.google.com/assets/colab-badge.svg\" alt=\"Open In Colab\"/></a>"
      ]
    },
    {
      "cell_type": "markdown",
      "metadata": {
        "id": "_VuBAr-ZUa_3",
        "colab_type": "text"
      },
      "source": [
        "# **DISNEY SURVEY DATA EXPLORATION**"
      ]
    },
    {
      "cell_type": "markdown",
      "metadata": {
        "id": "cdoXQzWIUz4j",
        "colab_type": "text"
      },
      "source": [
        "### **Importing libraries**"
      ]
    },
    {
      "cell_type": "code",
      "metadata": {
        "id": "0wt7DhglcmqC",
        "colab_type": "code",
        "colab": {
          "base_uri": "https://localhost:8080/",
          "height": 70
        },
        "outputId": "7ea6089e-48b6-4d59-fdae-fe0100ddf062"
      },
      "source": [
        "import pandas as pd\n",
        "import numpy as np\n",
        "\n",
        "from sklearn.preprocessing import LabelEncoder\n",
        "from sklearn.cluster import KMeans\n",
        "from sklearn.model_selection import train_test_split\n",
        "from sklearn.metrics import accuracy_score\n",
        "from sklearn.decomposition import PCA\n",
        "from sklearn.cluster import AgglomerativeClustering\n",
        "\n",
        "import matplotlib.pyplot as plt\n",
        "import matplotlib.pyplot as plotter\n",
        "import seaborn as sns\n",
        "color = sns.color_palette()\n",
        "%matplotlib inline\n",
        "\n",
        "import warnings\n",
        "warnings.filterwarnings('ignore')"
      ],
      "execution_count": 2,
      "outputs": [
        {
          "output_type": "stream",
          "text": [
            "/usr/local/lib/python3.6/dist-packages/statsmodels/tools/_testing.py:19: FutureWarning: pandas.util.testing is deprecated. Use the functions in the public API at pandas.testing instead.\n",
            "  import pandas.util.testing as tm\n"
          ],
          "name": "stderr"
        }
      ]
    },
    {
      "cell_type": "markdown",
      "metadata": {
        "id": "N5g11xuAUk4l",
        "colab_type": "text"
      },
      "source": [
        "### **Cloning Github repository**"
      ]
    },
    {
      "cell_type": "code",
      "metadata": {
        "id": "QwKIIXgvfGfR",
        "colab_type": "code",
        "colab": {
          "base_uri": "https://localhost:8080/",
          "height": 118
        },
        "outputId": "fed1b1bf-5972-4600-fdb0-a7e918fcfeed"
      },
      "source": [
        "!git clone https://github.com/raina140291/disney.git temp\n",
        "!mv -f temp/ThemePark.csv ThemePark.csv\n",
        "!rm -rf temp"
      ],
      "execution_count": 3,
      "outputs": [
        {
          "output_type": "stream",
          "text": [
            "Cloning into 'temp'...\n",
            "remote: Enumerating objects: 46, done.\u001b[K\n",
            "remote: Counting objects: 100% (46/46), done.\u001b[K\n",
            "remote: Compressing objects: 100% (43/43), done.\u001b[K\n",
            "remote: Total 46 (delta 18), reused 2 (delta 0), pack-reused 0\u001b[K\n",
            "Unpacking objects: 100% (46/46), done.\n"
          ],
          "name": "stdout"
        }
      ]
    },
    {
      "cell_type": "markdown",
      "metadata": {
        "id": "_xHV6g8iU_Vy",
        "colab_type": "text"
      },
      "source": [
        "### **Reading Data**"
      ]
    },
    {
      "cell_type": "code",
      "metadata": {
        "id": "f37hY1xDdBfE",
        "colab_type": "code",
        "colab": {}
      },
      "source": [
        "df = pd.read_csv('ThemePark.csv', index_col = 0, sep=\",\")"
      ],
      "execution_count": 4,
      "outputs": []
    },
    {
      "cell_type": "code",
      "metadata": {
        "id": "BcjIebYoFcLX",
        "colab_type": "code",
        "colab": {
          "base_uri": "https://localhost:8080/",
          "height": 151
        },
        "outputId": "e5b7e53a-86cb-4591-a724-076450b37413"
      },
      "source": [
        "df.columns"
      ],
      "execution_count": 5,
      "outputs": [
        {
          "output_type": "execute_result",
          "data": {
            "text/plain": [
              "Index(['Visit_Year', 'Num_Adults', 'Num_Kids', 'Ticket_Source', 'Ticket_Type',\n",
              "       'Stay_Length', 'Transport', 'Digital_Assets', 'Revisit_Concern',\n",
              "       'Top_One', 'Top_Two', 'Giftshop_Concern', 'F&B_Concern',\n",
              "       'Hotel_Concern', 'Themed_Concern', 'OSS_ROE', 'Cast_Concern',\n",
              "       'Singlepath_Concern', 'Rides_Concern', 'Tempcheck_Concern',\n",
              "       'Digitalline_Concern', 'EE_ROE', 'Potluck_ROE', 'Parade_ROE',\n",
              "       'Newhotel_ROE', 'Gender', 'Age', 'Country'],\n",
              "      dtype='object')"
            ]
          },
          "metadata": {
            "tags": []
          },
          "execution_count": 5
        }
      ]
    },
    {
      "cell_type": "code",
      "metadata": {
        "id": "hPTvliSAFe7B",
        "colab_type": "code",
        "colab": {
          "base_uri": "https://localhost:8080/",
          "height": 504
        },
        "outputId": "cb2481d2-ced2-4ffa-e055-73148742b5a8"
      },
      "source": [
        "df.dtypes"
      ],
      "execution_count": 6,
      "outputs": [
        {
          "output_type": "execute_result",
          "data": {
            "text/plain": [
              "Visit_Year              int64\n",
              "Num_Adults              int64\n",
              "Num_Kids                int64\n",
              "Ticket_Source          object\n",
              "Ticket_Type            object\n",
              "Stay_Length            object\n",
              "Transport              object\n",
              "Digital_Assets         object\n",
              "Revisit_Concern         int64\n",
              "Top_One                object\n",
              "Top_Two                object\n",
              "Giftshop_Concern        int64\n",
              "F&B_Concern             int64\n",
              "Hotel_Concern           int64\n",
              "Themed_Concern          int64\n",
              "OSS_ROE                 int64\n",
              "Cast_Concern            int64\n",
              "Singlepath_Concern      int64\n",
              "Rides_Concern           int64\n",
              "Tempcheck_Concern       int64\n",
              "Digitalline_Concern     int64\n",
              "EE_ROE                  int64\n",
              "Potluck_ROE             int64\n",
              "Parade_ROE              int64\n",
              "Newhotel_ROE            int64\n",
              "Gender                 object\n",
              "Age                    object\n",
              "Country                object\n",
              "dtype: object"
            ]
          },
          "metadata": {
            "tags": []
          },
          "execution_count": 6
        }
      ]
    },
    {
      "cell_type": "code",
      "metadata": {
        "id": "1z5sZjEClxJz",
        "colab_type": "code",
        "colab": {}
      },
      "source": [
        "#Encoding the Top one & two choices\n",
        "lb_make = LabelEncoder()\n",
        "df[\"Top_One\"] = df[\"Top_One\"].fillna('Missing')\n",
        "df[\"Top_Two\"] = df[\"Top_Two\"].fillna('Missing')\n",
        "df[\"Top_One_En\"] = lb_make.fit_transform(df[\"Top_One\"])\n",
        "df[\"Top_Two_En\"] = lb_make.fit_transform(df[\"Top_Two\"])"
      ],
      "execution_count": 7,
      "outputs": []
    },
    {
      "cell_type": "markdown",
      "metadata": {
        "id": "MPHOr_0dVDZl",
        "colab_type": "text"
      },
      "source": [
        "### **Descriptive Analytics**"
      ]
    },
    {
      "cell_type": "code",
      "metadata": {
        "id": "zNzbPVweEMbp",
        "colab_type": "code",
        "colab": {
          "base_uri": "https://localhost:8080/",
          "height": 1000
        },
        "outputId": "946fee29-0c33-43aa-b424-bf093bc0f06d"
      },
      "source": [
        "#GENDER\n",
        "temp_series = df['Gender'].value_counts()\n",
        "labels = (np.array(temp_series.index))\n",
        "sizes = (np.array((temp_series / temp_series.sum())*100))\n",
        "\n",
        "figureObject, axesObject = plotter.subplots()\n",
        "axesObject.pie(sizes,\n",
        "        labels=labels,\n",
        "        autopct='%1.2f',\n",
        "        startangle=90)\n",
        "axesObject.axis('equal')\n",
        "plotter.show()\n",
        "\n",
        "#COUNTRY\n",
        "cnt_srs = df['Country'].value_counts().head(25)\n",
        "plt.figure(figsize=(8,12))\n",
        "sns.barplot(y=cnt_srs.index, x=cnt_srs.values, alpha=0.8)\n",
        "plt.xlabel('Number of respondents', fontsize=12)\n",
        "plt.ylabel('Country', fontsize=12)\n",
        "plt.title(\"Country wise number of respondents\", fontsize=15)\n",
        "plt.show()\n",
        "\n",
        "#AGE\n",
        "cnt_srs = df['Age'].value_counts()\n",
        "labels = (np.array(cnt_srs.index))\n",
        "sizes = (np.array((cnt_srs / cnt_srs.sum())*100))\n",
        "\n",
        "figureObject, axesObject = plotter.subplots()\n",
        "axesObject.pie(sizes,\n",
        "        labels=labels,\n",
        "        autopct='%1.2f',\n",
        "        startangle=90)\n",
        "axesObject.axis('equal')\n",
        "plotter.show()"
      ],
      "execution_count": 8,
      "outputs": [
        {
          "output_type": "display_data",
          "data": {
            "image/png": "[encoded data removed]",
            "text/plain": [
              "<Figure size 432x288 with 1 Axes>"
            ]
          },
          "metadata": {
            "tags": []
          }
        },
        {
          "output_type": "display_data",
          "data": {
            "image/png": "[encoded data removed]",
            "text/plain": [
              "<Figure size 576x864 with 1 Axes>"
            ]
          },
          "metadata": {
            "tags": [],
            "needs_background": "light"
          }
        },
        {
          "output_type": "display_data",
          "data": {
            "image/png": "[encoded data removed]",
            "text/plain": [
              "<Figure size 432x288 with 1 Axes>"
            ]
          },
          "metadata": {
            "tags": []
          }
        }
      ]
    },
    {
      "cell_type": "markdown",
      "metadata": {
        "id": "Z-_ro9rjVb2l",
        "colab_type": "text"
      },
      "source": [
        "### **Principal Component Analysis**\n",
        "We will use Principal Component Analysis (PCA) to do the dimensionality reduction. PCA can help us to identify patterns based on the correlation between features. To do this, we first select a list of “Active” input variables, to be used for the creation of the clusters. The remaining “Illustrative” variables will be used only for the interpretation of the clusters. "
      ]
    },
    {
      "cell_type": "code",
      "metadata": {
        "id": "hqUOkVV6pm9S",
        "colab_type": "code",
        "colab": {
          "base_uri": "https://localhost:8080/",
          "height": 34
        },
        "outputId": "8b686f57-3519-4c89-8906-7dc60407cad3"
      },
      "source": [
        "X = df[['Top_One_En', 'Top_Two_En', 'Revisit_Concern','Giftshop_Concern', 'F&B_Concern',\n",
        "        'Hotel_Concern', 'Themed_Concern', 'OSS_ROE', 'Cast_Concern', 'Singlepath_Concern', \n",
        "        'Rides_Concern', 'Tempcheck_Concern', 'Digitalline_Concern', 'EE_ROE', 'Potluck_ROE', \n",
        "        'Parade_ROE', 'Newhotel_ROE']]\n",
        "pca = PCA(n_components = 2, random_state=1)\n",
        "X_pca = pca.fit_transform(X)\n",
        "pca.explained_variance_ratio_.cumsum()[1]"
      ],
      "execution_count": 9,
      "outputs": [
        {
          "output_type": "execute_result",
          "data": {
            "text/plain": [
              "0.46246210113194997"
            ]
          },
          "metadata": {
            "tags": []
          },
          "execution_count": 9
        }
      ]
    },
    {
      "cell_type": "markdown",
      "metadata": {
        "id": "Qt2et3yHZUz4",
        "colab_type": "text"
      },
      "source": [
        "One drawback of using PCA is the new features generated by PCA will have less variance than the original features. This means we might lose some information and lower the predictive power of our model. In our case, we only managed to preserve ~60% of the variance which is less than ideal.\n"
      ]
    },
    {
      "cell_type": "markdown",
      "metadata": {
        "id": "wh2IrEfGVsui",
        "colab_type": "text"
      },
      "source": [
        "### **Agglomerative Clustering**\n",
        "Agglomerative Clustering will assign each observation as individual cluster and merge those clusters based on their distance (similarity) pair by pair, iteratively. We will focus on Ward’s linkage algorithm which merges clusters that lead to minimum increase of Sum of Square Error (SSE)."
      ]
    },
    {
      "cell_type": "code",
      "metadata": {
        "id": "xjMUU2SKXIAr",
        "colab_type": "code",
        "colab": {
          "base_uri": "https://localhost:8080/",
          "height": 293
        },
        "outputId": "10b0bf01-7239-4fdc-84df-57507ea80c93"
      },
      "source": [
        "from scipy.cluster.hierarchy import dendrogram, linkage\n",
        "dendrogram = dendrogram(linkage(X_pca, method = 'ward'))\n",
        "plt.title('Dendrogram')\n",
        "plt.xlabel('questions')\n",
        "plt.ylabel('Euclidean distances')\n",
        "plt.show()"
      ],
      "execution_count": 10,
      "outputs": [
        {
          "output_type": "display_data",
          "data": {
            "image/png": "[encoded data removed]",
            "text/plain": [
              "<Figure size 432x288 with 1 Axes>"
            ]
          },
          "metadata": {
            "tags": [],
            "needs_background": "light"
          }
        }
      ]
    },
    {
      "cell_type": "markdown",
      "metadata": {
        "id": "AVD5XCd7aT-0",
        "colab_type": "text"
      },
      "source": [
        "There are three colours : green, red and blue. This mean the best k number of clusters according to Ward’s linkage (method = ‘ward’) is three."
      ]
    },
    {
      "cell_type": "code",
      "metadata": {
        "id": "N9q0m5sAbgRs",
        "colab_type": "code",
        "colab": {}
      },
      "source": [
        "model = AgglomerativeClustering(n_clusters = 3, \n",
        "                          affinity ='euclidean', \n",
        "                          linkage ='ward')\n",
        "y = model.fit_predict(X)"
      ],
      "execution_count": 11,
      "outputs": []
    },
    {
      "cell_type": "markdown",
      "metadata": {
        "id": "qIMJ5N23V3-E",
        "colab_type": "text"
      },
      "source": [
        "### **Cluster Analysis**"
      ]
    },
    {
      "cell_type": "code",
      "metadata": {
        "id": "x-eyi0JBi0oj",
        "colab_type": "code",
        "colab": {}
      },
      "source": [
        "df['Cluster'] = y"
      ],
      "execution_count": 12,
      "outputs": []
    },
    {
      "cell_type": "code",
      "metadata": {
        "id": "LOi8q8xxi0r7",
        "colab_type": "code",
        "colab": {}
      },
      "source": [
        "df_cluster1 = df[df['Cluster']==0]\n",
        "df_cluster2 = df[df['Cluster']==1]\n",
        "df_cluster3 = df[df['Cluster']==2]"
      ],
      "execution_count": 18,
      "outputs": []
    },
    {
      "cell_type": "code",
      "metadata": {
        "id": "_ZzM39lMFHcR",
        "colab_type": "code",
        "colab": {
          "base_uri": "https://localhost:8080/",
          "height": 84
        },
        "outputId": "463e9d52-6ae7-47ee-bac5-ba745a620f05"
      },
      "source": [
        "y"
      ],
      "execution_count": 19,
      "outputs": [
        {
          "output_type": "execute_result",
          "data": {
            "text/plain": [
              "array([0, 0, 0, 1, 2, 2, 0, 1, 0, 0, 0, 0, 0, 2, 2, 0, 0, 0, 0, 0, 0, 2,\n",
              "       0, 1, 0, 0, 0, 0, 0, 0, 2, 0, 0, 0, 1, 0, 1, 0, 1, 0, 0, 0, 0, 2,\n",
              "       0, 0, 0, 0, 0, 0, 1, 0, 1, 0, 0, 0, 0, 0, 0, 0, 1, 0, 1, 0, 0, 0,\n",
              "       1, 0, 0, 1, 1, 0, 1, 0, 0, 0, 0, 0, 0, 0, 0, 1, 0])"
            ]
          },
          "metadata": {
            "tags": []
          },
          "execution_count": 19
        }
      ]
    },
    {
      "cell_type": "code",
      "metadata": {
        "id": "IwP8j2DztUa8",
        "colab_type": "code",
        "colab": {
          "base_uri": "https://localhost:8080/",
          "height": 304
        },
        "outputId": "a7d017bf-4aab-47d4-8c2d-feaedeeb25d6"
      },
      "source": [
        "df_cluster1.describe()"
      ],
      "execution_count": 15,
      "outputs": [
        {
          "output_type": "execute_result",
          "data": {
            "text/html": [
              "<div>\n",
              "<style scoped>\n",
              "    .dataframe tbody tr th:only-of-type {\n",
              "        vertical-align: middle;\n",
              "    }\n",
              "\n",
              "    .dataframe tbody tr th {\n",
              "        vertical-align: top;\n",
              "    }\n",
              "\n",
              "    .dataframe thead th {\n",
              "        text-align: right;\n",
              "    }\n",
              "</style>\n",
              "<table border=\"1\" class=\"dataframe\">\n",
              "  <thead>\n",
              "    <tr style=\"text-align: right;\">\n",
              "      <th></th>\n",
              "      <th>Visit_Year</th>\n",
              "      <th>Num_Adults</th>\n",
              "      <th>Num_Kids</th>\n",
              "      <th>Revisit_Concern</th>\n",
              "      <th>Giftshop_Concern</th>\n",
              "      <th>F&amp;B_Concern</th>\n",
              "      <th>Hotel_Concern</th>\n",
              "      <th>Themed_Concern</th>\n",
              "      <th>OSS_ROE</th>\n",
              "      <th>Cast_Concern</th>\n",
              "      <th>Singlepath_Concern</th>\n",
              "      <th>Rides_Concern</th>\n",
              "      <th>Tempcheck_Concern</th>\n",
              "      <th>Digitalline_Concern</th>\n",
              "      <th>EE_ROE</th>\n",
              "      <th>Potluck_ROE</th>\n",
              "      <th>Parade_ROE</th>\n",
              "      <th>Newhotel_ROE</th>\n",
              "      <th>Top_One_En</th>\n",
              "      <th>Top_Two_En</th>\n",
              "      <th>Cluster</th>\n",
              "    </tr>\n",
              "  </thead>\n",
              "  <tbody>\n",
              "    <tr>\n",
              "      <th>count</th>\n",
              "      <td>61.000000</td>\n",
              "      <td>61.000000</td>\n",
              "      <td>61.000000</td>\n",
              "      <td>61.000000</td>\n",
              "      <td>61.000000</td>\n",
              "      <td>61.000000</td>\n",
              "      <td>61.000000</td>\n",
              "      <td>61.000000</td>\n",
              "      <td>61.000000</td>\n",
              "      <td>61.000000</td>\n",
              "      <td>61.000000</td>\n",
              "      <td>61.000000</td>\n",
              "      <td>61.000000</td>\n",
              "      <td>61.000000</td>\n",
              "      <td>61.000000</td>\n",
              "      <td>61.000000</td>\n",
              "      <td>61.000000</td>\n",
              "      <td>61.000000</td>\n",
              "      <td>61.000000</td>\n",
              "      <td>61.000000</td>\n",
              "      <td>61.0</td>\n",
              "    </tr>\n",
              "    <tr>\n",
              "      <th>mean</th>\n",
              "      <td>2018.049180</td>\n",
              "      <td>2.262295</td>\n",
              "      <td>0.803279</td>\n",
              "      <td>6.278689</td>\n",
              "      <td>6.819672</td>\n",
              "      <td>5.983607</td>\n",
              "      <td>6.868852</td>\n",
              "      <td>6.049180</td>\n",
              "      <td>7.721311</td>\n",
              "      <td>6.180328</td>\n",
              "      <td>6.770492</td>\n",
              "      <td>5.819672</td>\n",
              "      <td>6.540984</td>\n",
              "      <td>7.229508</td>\n",
              "      <td>7.409836</td>\n",
              "      <td>7.704918</td>\n",
              "      <td>6.901639</td>\n",
              "      <td>7.131148</td>\n",
              "      <td>2.672131</td>\n",
              "      <td>2.573770</td>\n",
              "      <td>0.0</td>\n",
              "    </tr>\n",
              "    <tr>\n",
              "      <th>std</th>\n",
              "      <td>2.951984</td>\n",
              "      <td>1.470846</td>\n",
              "      <td>1.447062</td>\n",
              "      <td>1.915995</td>\n",
              "      <td>1.688275</td>\n",
              "      <td>1.970548</td>\n",
              "      <td>2.140681</td>\n",
              "      <td>2.283464</td>\n",
              "      <td>1.967495</td>\n",
              "      <td>2.411833</td>\n",
              "      <td>2.076804</td>\n",
              "      <td>2.148707</td>\n",
              "      <td>2.277233</td>\n",
              "      <td>2.571598</td>\n",
              "      <td>2.253716</td>\n",
              "      <td>1.656746</td>\n",
              "      <td>2.103211</td>\n",
              "      <td>1.910283</td>\n",
              "      <td>0.831090</td>\n",
              "      <td>2.044986</td>\n",
              "      <td>0.0</td>\n",
              "    </tr>\n",
              "    <tr>\n",
              "      <th>min</th>\n",
              "      <td>2006.000000</td>\n",
              "      <td>0.000000</td>\n",
              "      <td>0.000000</td>\n",
              "      <td>2.000000</td>\n",
              "      <td>3.000000</td>\n",
              "      <td>1.000000</td>\n",
              "      <td>2.000000</td>\n",
              "      <td>1.000000</td>\n",
              "      <td>1.000000</td>\n",
              "      <td>1.000000</td>\n",
              "      <td>3.000000</td>\n",
              "      <td>1.000000</td>\n",
              "      <td>1.000000</td>\n",
              "      <td>1.000000</td>\n",
              "      <td>1.000000</td>\n",
              "      <td>4.000000</td>\n",
              "      <td>1.000000</td>\n",
              "      <td>3.000000</td>\n",
              "      <td>0.000000</td>\n",
              "      <td>0.000000</td>\n",
              "      <td>0.0</td>\n",
              "    </tr>\n",
              "    <tr>\n",
              "      <th>25%</th>\n",
              "      <td>2018.000000</td>\n",
              "      <td>1.000000</td>\n",
              "      <td>0.000000</td>\n",
              "      <td>5.000000</td>\n",
              "      <td>6.000000</td>\n",
              "      <td>5.000000</td>\n",
              "      <td>5.000000</td>\n",
              "      <td>4.000000</td>\n",
              "      <td>7.000000</td>\n",
              "      <td>4.000000</td>\n",
              "      <td>5.000000</td>\n",
              "      <td>4.000000</td>\n",
              "      <td>5.000000</td>\n",
              "      <td>6.000000</td>\n",
              "      <td>6.000000</td>\n",
              "      <td>7.000000</td>\n",
              "      <td>6.000000</td>\n",
              "      <td>5.000000</td>\n",
              "      <td>3.000000</td>\n",
              "      <td>1.000000</td>\n",
              "      <td>0.0</td>\n",
              "    </tr>\n",
              "    <tr>\n",
              "      <th>50%</th>\n",
              "      <td>2019.000000</td>\n",
              "      <td>2.000000</td>\n",
              "      <td>0.000000</td>\n",
              "      <td>6.000000</td>\n",
              "      <td>7.000000</td>\n",
              "      <td>6.000000</td>\n",
              "      <td>7.000000</td>\n",
              "      <td>6.000000</td>\n",
              "      <td>8.000000</td>\n",
              "      <td>7.000000</td>\n",
              "      <td>7.000000</td>\n",
              "      <td>6.000000</td>\n",
              "      <td>7.000000</td>\n",
              "      <td>8.000000</td>\n",
              "      <td>8.000000</td>\n",
              "      <td>8.000000</td>\n",
              "      <td>7.000000</td>\n",
              "      <td>7.000000</td>\n",
              "      <td>3.000000</td>\n",
              "      <td>2.000000</td>\n",
              "      <td>0.0</td>\n",
              "    </tr>\n",
              "    <tr>\n",
              "      <th>75%</th>\n",
              "      <td>2019.000000</td>\n",
              "      <td>3.000000</td>\n",
              "      <td>1.000000</td>\n",
              "      <td>8.000000</td>\n",
              "      <td>8.000000</td>\n",
              "      <td>7.000000</td>\n",
              "      <td>8.000000</td>\n",
              "      <td>8.000000</td>\n",
              "      <td>9.000000</td>\n",
              "      <td>8.000000</td>\n",
              "      <td>8.000000</td>\n",
              "      <td>7.000000</td>\n",
              "      <td>8.000000</td>\n",
              "      <td>9.000000</td>\n",
              "      <td>9.000000</td>\n",
              "      <td>9.000000</td>\n",
              "      <td>8.000000</td>\n",
              "      <td>9.000000</td>\n",
              "      <td>3.000000</td>\n",
              "      <td>3.000000</td>\n",
              "      <td>0.0</td>\n",
              "    </tr>\n",
              "    <tr>\n",
              "      <th>max</th>\n",
              "      <td>2020.000000</td>\n",
              "      <td>8.000000</td>\n",
              "      <td>6.000000</td>\n",
              "      <td>10.000000</td>\n",
              "      <td>10.000000</td>\n",
              "      <td>10.000000</td>\n",
              "      <td>10.000000</td>\n",
              "      <td>10.000000</td>\n",
              "      <td>10.000000</td>\n",
              "      <td>10.000000</td>\n",
              "      <td>10.000000</td>\n",
              "      <td>10.000000</td>\n",
              "      <td>10.000000</td>\n",
              "      <td>10.000000</td>\n",
              "      <td>10.000000</td>\n",
              "      <td>10.000000</td>\n",
              "      <td>10.000000</td>\n",
              "      <td>10.000000</td>\n",
              "      <td>4.000000</td>\n",
              "      <td>8.000000</td>\n",
              "      <td>0.0</td>\n",
              "    </tr>\n",
              "  </tbody>\n",
              "</table>\n",
              "</div>"
            ],
            "text/plain": [
              "        Visit_Year  Num_Adults   Num_Kids  ...  Top_One_En  Top_Two_En  Cluster\n",
              "count    61.000000   61.000000  61.000000  ...   61.000000   61.000000     61.0\n",
              "mean   2018.049180    2.262295   0.803279  ...    2.672131    2.573770      0.0\n",
              "std       2.951984    1.470846   1.447062  ...    0.831090    2.044986      0.0\n",
              "min    2006.000000    0.000000   0.000000  ...    0.000000    0.000000      0.0\n",
              "25%    2018.000000    1.000000   0.000000  ...    3.000000    1.000000      0.0\n",
              "50%    2019.000000    2.000000   0.000000  ...    3.000000    2.000000      0.0\n",
              "75%    2019.000000    3.000000   1.000000  ...    3.000000    3.000000      0.0\n",
              "max    2020.000000    8.000000   6.000000  ...    4.000000    8.000000      0.0\n",
              "\n",
              "[8 rows x 21 columns]"
            ]
          },
          "metadata": {
            "tags": []
          },
          "execution_count": 15
        }
      ]
    },
    {
      "cell_type": "code",
      "metadata": {
        "id": "TXI8-aqUt_RC",
        "colab_type": "code",
        "colab": {
          "base_uri": "https://localhost:8080/",
          "height": 304
        },
        "outputId": "350823ba-e1e3-4b2b-8d27-5be256f1d170"
      },
      "source": [
        "df_cluster2.describe()"
      ],
      "execution_count": 16,
      "outputs": [
        {
          "output_type": "execute_result",
          "data": {
            "text/html": [
              "<div>\n",
              "<style scoped>\n",
              "    .dataframe tbody tr th:only-of-type {\n",
              "        vertical-align: middle;\n",
              "    }\n",
              "\n",
              "    .dataframe tbody tr th {\n",
              "        vertical-align: top;\n",
              "    }\n",
              "\n",
              "    .dataframe thead th {\n",
              "        text-align: right;\n",
              "    }\n",
              "</style>\n",
              "<table border=\"1\" class=\"dataframe\">\n",
              "  <thead>\n",
              "    <tr style=\"text-align: right;\">\n",
              "      <th></th>\n",
              "      <th>Visit_Year</th>\n",
              "      <th>Num_Adults</th>\n",
              "      <th>Num_Kids</th>\n",
              "      <th>Revisit_Concern</th>\n",
              "      <th>Giftshop_Concern</th>\n",
              "      <th>F&amp;B_Concern</th>\n",
              "      <th>Hotel_Concern</th>\n",
              "      <th>Themed_Concern</th>\n",
              "      <th>OSS_ROE</th>\n",
              "      <th>Cast_Concern</th>\n",
              "      <th>Singlepath_Concern</th>\n",
              "      <th>Rides_Concern</th>\n",
              "      <th>Tempcheck_Concern</th>\n",
              "      <th>Digitalline_Concern</th>\n",
              "      <th>EE_ROE</th>\n",
              "      <th>Potluck_ROE</th>\n",
              "      <th>Parade_ROE</th>\n",
              "      <th>Newhotel_ROE</th>\n",
              "      <th>Top_One_En</th>\n",
              "      <th>Top_Two_En</th>\n",
              "      <th>Cluster</th>\n",
              "    </tr>\n",
              "  </thead>\n",
              "  <tbody>\n",
              "    <tr>\n",
              "      <th>count</th>\n",
              "      <td>15.000000</td>\n",
              "      <td>15.000000</td>\n",
              "      <td>15.00000</td>\n",
              "      <td>15.000000</td>\n",
              "      <td>15.000000</td>\n",
              "      <td>15.000000</td>\n",
              "      <td>15.000000</td>\n",
              "      <td>15.000000</td>\n",
              "      <td>15.000000</td>\n",
              "      <td>15.000000</td>\n",
              "      <td>15.00000</td>\n",
              "      <td>15.000000</td>\n",
              "      <td>15.000000</td>\n",
              "      <td>15.000000</td>\n",
              "      <td>15.000000</td>\n",
              "      <td>15.000000</td>\n",
              "      <td>15.000000</td>\n",
              "      <td>15.000000</td>\n",
              "      <td>15.000000</td>\n",
              "      <td>15.000000</td>\n",
              "      <td>15.0</td>\n",
              "    </tr>\n",
              "    <tr>\n",
              "      <th>mean</th>\n",
              "      <td>2016.133333</td>\n",
              "      <td>2.400000</td>\n",
              "      <td>1.00000</td>\n",
              "      <td>8.600000</td>\n",
              "      <td>8.266667</td>\n",
              "      <td>8.466667</td>\n",
              "      <td>9.066667</td>\n",
              "      <td>8.933333</td>\n",
              "      <td>9.066667</td>\n",
              "      <td>8.133333</td>\n",
              "      <td>8.60000</td>\n",
              "      <td>9.000000</td>\n",
              "      <td>9.466667</td>\n",
              "      <td>8.133333</td>\n",
              "      <td>9.533333</td>\n",
              "      <td>9.533333</td>\n",
              "      <td>6.400000</td>\n",
              "      <td>9.066667</td>\n",
              "      <td>2.733333</td>\n",
              "      <td>2.266667</td>\n",
              "      <td>1.0</td>\n",
              "    </tr>\n",
              "    <tr>\n",
              "      <th>std</th>\n",
              "      <td>7.434155</td>\n",
              "      <td>1.352247</td>\n",
              "      <td>1.36277</td>\n",
              "      <td>1.121224</td>\n",
              "      <td>2.051712</td>\n",
              "      <td>1.457330</td>\n",
              "      <td>1.099784</td>\n",
              "      <td>1.099784</td>\n",
              "      <td>1.387015</td>\n",
              "      <td>2.642149</td>\n",
              "      <td>2.02837</td>\n",
              "      <td>1.603567</td>\n",
              "      <td>0.743223</td>\n",
              "      <td>2.972893</td>\n",
              "      <td>1.125463</td>\n",
              "      <td>0.833809</td>\n",
              "      <td>3.246977</td>\n",
              "      <td>1.624221</td>\n",
              "      <td>0.457738</td>\n",
              "      <td>2.120198</td>\n",
              "      <td>0.0</td>\n",
              "    </tr>\n",
              "    <tr>\n",
              "      <th>min</th>\n",
              "      <td>1990.000000</td>\n",
              "      <td>1.000000</td>\n",
              "      <td>0.00000</td>\n",
              "      <td>7.000000</td>\n",
              "      <td>4.000000</td>\n",
              "      <td>6.000000</td>\n",
              "      <td>7.000000</td>\n",
              "      <td>7.000000</td>\n",
              "      <td>5.000000</td>\n",
              "      <td>1.000000</td>\n",
              "      <td>4.00000</td>\n",
              "      <td>4.000000</td>\n",
              "      <td>8.000000</td>\n",
              "      <td>1.000000</td>\n",
              "      <td>6.000000</td>\n",
              "      <td>7.000000</td>\n",
              "      <td>1.000000</td>\n",
              "      <td>5.000000</td>\n",
              "      <td>2.000000</td>\n",
              "      <td>0.000000</td>\n",
              "      <td>1.0</td>\n",
              "    </tr>\n",
              "    <tr>\n",
              "      <th>25%</th>\n",
              "      <td>2016.000000</td>\n",
              "      <td>2.000000</td>\n",
              "      <td>0.00000</td>\n",
              "      <td>8.000000</td>\n",
              "      <td>8.000000</td>\n",
              "      <td>7.500000</td>\n",
              "      <td>8.500000</td>\n",
              "      <td>8.000000</td>\n",
              "      <td>8.500000</td>\n",
              "      <td>8.000000</td>\n",
              "      <td>8.00000</td>\n",
              "      <td>8.500000</td>\n",
              "      <td>9.000000</td>\n",
              "      <td>7.500000</td>\n",
              "      <td>10.000000</td>\n",
              "      <td>9.000000</td>\n",
              "      <td>5.500000</td>\n",
              "      <td>8.500000</td>\n",
              "      <td>2.500000</td>\n",
              "      <td>1.000000</td>\n",
              "      <td>1.0</td>\n",
              "    </tr>\n",
              "    <tr>\n",
              "      <th>50%</th>\n",
              "      <td>2018.000000</td>\n",
              "      <td>2.000000</td>\n",
              "      <td>1.00000</td>\n",
              "      <td>9.000000</td>\n",
              "      <td>9.000000</td>\n",
              "      <td>9.000000</td>\n",
              "      <td>9.000000</td>\n",
              "      <td>9.000000</td>\n",
              "      <td>10.000000</td>\n",
              "      <td>9.000000</td>\n",
              "      <td>10.00000</td>\n",
              "      <td>10.000000</td>\n",
              "      <td>10.000000</td>\n",
              "      <td>10.000000</td>\n",
              "      <td>10.000000</td>\n",
              "      <td>10.000000</td>\n",
              "      <td>7.000000</td>\n",
              "      <td>10.000000</td>\n",
              "      <td>3.000000</td>\n",
              "      <td>1.000000</td>\n",
              "      <td>1.0</td>\n",
              "    </tr>\n",
              "    <tr>\n",
              "      <th>75%</th>\n",
              "      <td>2019.000000</td>\n",
              "      <td>2.500000</td>\n",
              "      <td>1.00000</td>\n",
              "      <td>9.500000</td>\n",
              "      <td>10.000000</td>\n",
              "      <td>10.000000</td>\n",
              "      <td>10.000000</td>\n",
              "      <td>10.000000</td>\n",
              "      <td>10.000000</td>\n",
              "      <td>10.000000</td>\n",
              "      <td>10.00000</td>\n",
              "      <td>10.000000</td>\n",
              "      <td>10.000000</td>\n",
              "      <td>10.000000</td>\n",
              "      <td>10.000000</td>\n",
              "      <td>10.000000</td>\n",
              "      <td>9.000000</td>\n",
              "      <td>10.000000</td>\n",
              "      <td>3.000000</td>\n",
              "      <td>3.500000</td>\n",
              "      <td>1.0</td>\n",
              "    </tr>\n",
              "    <tr>\n",
              "      <th>max</th>\n",
              "      <td>2020.000000</td>\n",
              "      <td>6.000000</td>\n",
              "      <td>4.00000</td>\n",
              "      <td>10.000000</td>\n",
              "      <td>10.000000</td>\n",
              "      <td>10.000000</td>\n",
              "      <td>10.000000</td>\n",
              "      <td>10.000000</td>\n",
              "      <td>10.000000</td>\n",
              "      <td>10.000000</td>\n",
              "      <td>10.00000</td>\n",
              "      <td>10.000000</td>\n",
              "      <td>10.000000</td>\n",
              "      <td>10.000000</td>\n",
              "      <td>10.000000</td>\n",
              "      <td>10.000000</td>\n",
              "      <td>10.000000</td>\n",
              "      <td>10.000000</td>\n",
              "      <td>3.000000</td>\n",
              "      <td>8.000000</td>\n",
              "      <td>1.0</td>\n",
              "    </tr>\n",
              "  </tbody>\n",
              "</table>\n",
              "</div>"
            ],
            "text/plain": [
              "        Visit_Year  Num_Adults  Num_Kids  ...  Top_One_En  Top_Two_En  Cluster\n",
              "count    15.000000   15.000000  15.00000  ...   15.000000   15.000000     15.0\n",
              "mean   2016.133333    2.400000   1.00000  ...    2.733333    2.266667      1.0\n",
              "std       7.434155    1.352247   1.36277  ...    0.457738    2.120198      0.0\n",
              "min    1990.000000    1.000000   0.00000  ...    2.000000    0.000000      1.0\n",
              "25%    2016.000000    2.000000   0.00000  ...    2.500000    1.000000      1.0\n",
              "50%    2018.000000    2.000000   1.00000  ...    3.000000    1.000000      1.0\n",
              "75%    2019.000000    2.500000   1.00000  ...    3.000000    3.500000      1.0\n",
              "max    2020.000000    6.000000   4.00000  ...    3.000000    8.000000      1.0\n",
              "\n",
              "[8 rows x 21 columns]"
            ]
          },
          "metadata": {
            "tags": []
          },
          "execution_count": 16
        }
      ]
    },
    {
      "cell_type": "code",
      "metadata": {
        "id": "M6RIhhyjuBNF",
        "colab_type": "code",
        "colab": {
          "base_uri": "https://localhost:8080/",
          "height": 304
        },
        "outputId": "a3622c02-7d1e-4eb5-a3b3-4c6ae919b8d5"
      },
      "source": [
        "df_cluster3.describe()"
      ],
      "execution_count": 20,
      "outputs": [
        {
          "output_type": "execute_result",
          "data": {
            "text/html": [
              "<div>\n",
              "<style scoped>\n",
              "    .dataframe tbody tr th:only-of-type {\n",
              "        vertical-align: middle;\n",
              "    }\n",
              "\n",
              "    .dataframe tbody tr th {\n",
              "        vertical-align: top;\n",
              "    }\n",
              "\n",
              "    .dataframe thead th {\n",
              "        text-align: right;\n",
              "    }\n",
              "</style>\n",
              "<table border=\"1\" class=\"dataframe\">\n",
              "  <thead>\n",
              "    <tr style=\"text-align: right;\">\n",
              "      <th></th>\n",
              "      <th>Visit_Year</th>\n",
              "      <th>Num_Adults</th>\n",
              "      <th>Num_Kids</th>\n",
              "      <th>Revisit_Concern</th>\n",
              "      <th>Giftshop_Concern</th>\n",
              "      <th>F&amp;B_Concern</th>\n",
              "      <th>Hotel_Concern</th>\n",
              "      <th>Themed_Concern</th>\n",
              "      <th>OSS_ROE</th>\n",
              "      <th>Cast_Concern</th>\n",
              "      <th>Singlepath_Concern</th>\n",
              "      <th>Rides_Concern</th>\n",
              "      <th>Tempcheck_Concern</th>\n",
              "      <th>Digitalline_Concern</th>\n",
              "      <th>EE_ROE</th>\n",
              "      <th>Potluck_ROE</th>\n",
              "      <th>Parade_ROE</th>\n",
              "      <th>Newhotel_ROE</th>\n",
              "      <th>Top_One_En</th>\n",
              "      <th>Top_Two_En</th>\n",
              "      <th>Cluster</th>\n",
              "    </tr>\n",
              "  </thead>\n",
              "  <tbody>\n",
              "    <tr>\n",
              "      <th>count</th>\n",
              "      <td>7.000000</td>\n",
              "      <td>7.000000</td>\n",
              "      <td>7.000000</td>\n",
              "      <td>7.000000</td>\n",
              "      <td>7.000000</td>\n",
              "      <td>7.000000</td>\n",
              "      <td>7.000000</td>\n",
              "      <td>7.000000</td>\n",
              "      <td>7.000000</td>\n",
              "      <td>7.000000</td>\n",
              "      <td>7.000000</td>\n",
              "      <td>7.000000</td>\n",
              "      <td>7.000000</td>\n",
              "      <td>7.000000</td>\n",
              "      <td>7.000000</td>\n",
              "      <td>7.000000</td>\n",
              "      <td>7.000000</td>\n",
              "      <td>7.000000</td>\n",
              "      <td>7.00000</td>\n",
              "      <td>7.000000</td>\n",
              "      <td>7.0</td>\n",
              "    </tr>\n",
              "    <tr>\n",
              "      <th>mean</th>\n",
              "      <td>2018.285714</td>\n",
              "      <td>2.285714</td>\n",
              "      <td>0.571429</td>\n",
              "      <td>2.000000</td>\n",
              "      <td>2.857143</td>\n",
              "      <td>2.142857</td>\n",
              "      <td>3.857143</td>\n",
              "      <td>2.142857</td>\n",
              "      <td>6.857143</td>\n",
              "      <td>8.142857</td>\n",
              "      <td>9.285714</td>\n",
              "      <td>9.285714</td>\n",
              "      <td>9.285714</td>\n",
              "      <td>9.571429</td>\n",
              "      <td>7.714286</td>\n",
              "      <td>9.714286</td>\n",
              "      <td>7.142857</td>\n",
              "      <td>9.285714</td>\n",
              "      <td>3.00000</td>\n",
              "      <td>3.000000</td>\n",
              "      <td>2.0</td>\n",
              "    </tr>\n",
              "    <tr>\n",
              "      <th>std</th>\n",
              "      <td>0.755929</td>\n",
              "      <td>1.112697</td>\n",
              "      <td>1.133893</td>\n",
              "      <td>0.816497</td>\n",
              "      <td>1.573592</td>\n",
              "      <td>0.899735</td>\n",
              "      <td>1.676163</td>\n",
              "      <td>1.214986</td>\n",
              "      <td>2.035401</td>\n",
              "      <td>2.544836</td>\n",
              "      <td>0.951190</td>\n",
              "      <td>0.951190</td>\n",
              "      <td>0.951190</td>\n",
              "      <td>1.133893</td>\n",
              "      <td>1.976047</td>\n",
              "      <td>0.755929</td>\n",
              "      <td>3.236694</td>\n",
              "      <td>0.951190</td>\n",
              "      <td>0.57735</td>\n",
              "      <td>2.309401</td>\n",
              "      <td>0.0</td>\n",
              "    </tr>\n",
              "    <tr>\n",
              "      <th>min</th>\n",
              "      <td>2017.000000</td>\n",
              "      <td>1.000000</td>\n",
              "      <td>0.000000</td>\n",
              "      <td>1.000000</td>\n",
              "      <td>1.000000</td>\n",
              "      <td>1.000000</td>\n",
              "      <td>1.000000</td>\n",
              "      <td>1.000000</td>\n",
              "      <td>3.000000</td>\n",
              "      <td>4.000000</td>\n",
              "      <td>8.000000</td>\n",
              "      <td>8.000000</td>\n",
              "      <td>8.000000</td>\n",
              "      <td>7.000000</td>\n",
              "      <td>5.000000</td>\n",
              "      <td>8.000000</td>\n",
              "      <td>1.000000</td>\n",
              "      <td>8.000000</td>\n",
              "      <td>2.00000</td>\n",
              "      <td>0.000000</td>\n",
              "      <td>2.0</td>\n",
              "    </tr>\n",
              "    <tr>\n",
              "      <th>25%</th>\n",
              "      <td>2018.000000</td>\n",
              "      <td>1.500000</td>\n",
              "      <td>0.000000</td>\n",
              "      <td>1.500000</td>\n",
              "      <td>2.000000</td>\n",
              "      <td>1.500000</td>\n",
              "      <td>3.000000</td>\n",
              "      <td>1.000000</td>\n",
              "      <td>6.500000</td>\n",
              "      <td>7.000000</td>\n",
              "      <td>8.500000</td>\n",
              "      <td>8.500000</td>\n",
              "      <td>8.500000</td>\n",
              "      <td>10.000000</td>\n",
              "      <td>6.500000</td>\n",
              "      <td>10.000000</td>\n",
              "      <td>6.000000</td>\n",
              "      <td>8.500000</td>\n",
              "      <td>3.00000</td>\n",
              "      <td>1.500000</td>\n",
              "      <td>2.0</td>\n",
              "    </tr>\n",
              "    <tr>\n",
              "      <th>50%</th>\n",
              "      <td>2018.000000</td>\n",
              "      <td>2.000000</td>\n",
              "      <td>0.000000</td>\n",
              "      <td>2.000000</td>\n",
              "      <td>2.000000</td>\n",
              "      <td>2.000000</td>\n",
              "      <td>5.000000</td>\n",
              "      <td>2.000000</td>\n",
              "      <td>8.000000</td>\n",
              "      <td>9.000000</td>\n",
              "      <td>10.000000</td>\n",
              "      <td>10.000000</td>\n",
              "      <td>10.000000</td>\n",
              "      <td>10.000000</td>\n",
              "      <td>7.000000</td>\n",
              "      <td>10.000000</td>\n",
              "      <td>8.000000</td>\n",
              "      <td>10.000000</td>\n",
              "      <td>3.00000</td>\n",
              "      <td>3.000000</td>\n",
              "      <td>2.0</td>\n",
              "    </tr>\n",
              "    <tr>\n",
              "      <th>75%</th>\n",
              "      <td>2019.000000</td>\n",
              "      <td>3.000000</td>\n",
              "      <td>0.500000</td>\n",
              "      <td>2.500000</td>\n",
              "      <td>4.000000</td>\n",
              "      <td>3.000000</td>\n",
              "      <td>5.000000</td>\n",
              "      <td>3.000000</td>\n",
              "      <td>8.000000</td>\n",
              "      <td>10.000000</td>\n",
              "      <td>10.000000</td>\n",
              "      <td>10.000000</td>\n",
              "      <td>10.000000</td>\n",
              "      <td>10.000000</td>\n",
              "      <td>9.500000</td>\n",
              "      <td>10.000000</td>\n",
              "      <td>9.500000</td>\n",
              "      <td>10.000000</td>\n",
              "      <td>3.00000</td>\n",
              "      <td>4.500000</td>\n",
              "      <td>2.0</td>\n",
              "    </tr>\n",
              "    <tr>\n",
              "      <th>max</th>\n",
              "      <td>2019.000000</td>\n",
              "      <td>4.000000</td>\n",
              "      <td>3.000000</td>\n",
              "      <td>3.000000</td>\n",
              "      <td>5.000000</td>\n",
              "      <td>3.000000</td>\n",
              "      <td>5.000000</td>\n",
              "      <td>4.000000</td>\n",
              "      <td>8.000000</td>\n",
              "      <td>10.000000</td>\n",
              "      <td>10.000000</td>\n",
              "      <td>10.000000</td>\n",
              "      <td>10.000000</td>\n",
              "      <td>10.000000</td>\n",
              "      <td>10.000000</td>\n",
              "      <td>10.000000</td>\n",
              "      <td>10.000000</td>\n",
              "      <td>10.000000</td>\n",
              "      <td>4.00000</td>\n",
              "      <td>6.000000</td>\n",
              "      <td>2.0</td>\n",
              "    </tr>\n",
              "  </tbody>\n",
              "</table>\n",
              "</div>"
            ],
            "text/plain": [
              "        Visit_Year  Num_Adults  Num_Kids  ...  Top_One_En  Top_Two_En  Cluster\n",
              "count     7.000000    7.000000  7.000000  ...     7.00000    7.000000      7.0\n",
              "mean   2018.285714    2.285714  0.571429  ...     3.00000    3.000000      2.0\n",
              "std       0.755929    1.112697  1.133893  ...     0.57735    2.309401      0.0\n",
              "min    2017.000000    1.000000  0.000000  ...     2.00000    0.000000      2.0\n",
              "25%    2018.000000    1.500000  0.000000  ...     3.00000    1.500000      2.0\n",
              "50%    2018.000000    2.000000  0.000000  ...     3.00000    3.000000      2.0\n",
              "75%    2019.000000    3.000000  0.500000  ...     3.00000    4.500000      2.0\n",
              "max    2019.000000    4.000000  3.000000  ...     4.00000    6.000000      2.0\n",
              "\n",
              "[8 rows x 21 columns]"
            ]
          },
          "metadata": {
            "tags": []
          },
          "execution_count": 20
        }
      ]
    },
    {
      "cell_type": "markdown",
      "metadata": {
        "id": "o2PaI_MDM5Tq",
        "colab_type": "text"
      },
      "source": [
        "# **FIN**"
      ]
    },
    {
      "cell_type": "markdown",
      "metadata": {
        "id": "Th37M5LOuTNA",
        "colab_type": "text"
      },
      "source": [
        "###Archived"
      ]
    },
    {
      "cell_type": "markdown",
      "metadata": {
        "id": "Kg33bmsXV99a",
        "colab_type": "text"
      },
      "source": [
        "#### *Archived: KMeans* \n",
        "\n",
        "Since we have a mixture of scales and information, K-means (which assumes continuously distributed information only) is not an appropriate technique. KMeans always tries to make clusters of the same size. Also, we have to decide the number of clusters at the beginning of the algorithm. Instead we use traditional PCA. "
      ]
    },
    {
      "cell_type": "code",
      "metadata": {
        "id": "73M4t380dV5P",
        "colab_type": "code",
        "colab": {
          "base_uri": "https://localhost:8080/",
          "height": 279
        },
        "outputId": "4cb44937-af8c-4630-c0f8-9b4aff82b61a"
      },
      "source": [
        "distortions = []\n",
        "K_to_try = range(1, 6)\n",
        "\n",
        "for i in K_to_try:\n",
        "    model = KMeans(\n",
        "            n_clusters=i,\n",
        "            init='k-means++',\n",
        "            n_jobs=-1,\n",
        "            random_state=1)\n",
        "    model.fit(X_pca)\n",
        "    distortions.append(model.inertia_)\n",
        "plt.plot(K_to_try, distortions, marker='o')\n",
        "plt.xlabel('Number of Clusters (k)')\n",
        "plt.ylabel('Distortion')\n",
        "plt.show()"
      ],
      "execution_count": null,
      "outputs": [
        {
          "output_type": "display_data",
          "data": {
            "image/png": "[encoded data removed]",
            "text/plain": [
              "<Figure size 432x288 with 1 Axes>"
            ]
          },
          "metadata": {
            "tags": [],
            "needs_background": "light"
          }
        }
      ]
    },
    {
      "cell_type": "code",
      "metadata": {
        "id": "hZ_3QzIck8VA",
        "colab_type": "code",
        "colab": {}
      },
      "source": [
        "model = KMeans(\n",
        "    n_clusters=2,\n",
        "    init='k-means++',\n",
        "    n_jobs=-1,\n",
        "    random_state=1)\n",
        "\n",
        "model = model.fit(X_pca)\n",
        "\n",
        "y_kmeans = model.predict(X_pca)"
      ],
      "execution_count": null,
      "outputs": []
    },
    {
      "cell_type": "code",
      "metadata": {
        "id": "NiLhSFaCZ4q0",
        "colab_type": "code",
        "colab": {
          "base_uri": "https://localhost:8080/",
          "height": 295
        },
        "outputId": "3cee24b4-dddc-48ff-a355-4e6b5ee3c464"
      },
      "source": [
        "plt.scatter(X_pca[y_kmeans==0, 0], X_pca[y_kmeans==0, 1], s=100, c='red', label ='Cluster 1')\n",
        "plt.scatter(X_pca[y_kmeans==1, 0], X_pca[y_kmeans==1, 1], s=100, c='blue', label ='Cluster 2')\n",
        "plt.scatter(X_pca[y_kmeans==2, 0], X_pca[y_kmeans==2, 1], s=100, c='green', label ='Cluster 3')\n",
        "plt.scatter(X_pca[y_kmeans==3, 0], X_pca[y_kmeans==3, 1], s=100, c='cyan', label ='Cluster 4')\n",
        "plt.scatter(X_pca[y_kmeans==4, 0], X_pca[y_kmeans==4, 1], s=100, c='magenta', label ='Cluster 5')\n",
        "\n",
        "plt.scatter(model.cluster_centers_[:, 0], model.cluster_centers_[:, 1], s=300, c='yellow', label = 'Centroids')\n",
        "plt.title('Clusters of Customers')\n",
        "plt.xlabel('Annual Income(k$)')\n",
        "plt.ylabel('Spending Score(1-100')\n",
        "plt.show()"
      ],
      "execution_count": null,
      "outputs": [
        {
          "output_type": "display_data",
          "data": {
            "image/png": "[encoded data removed]",
            "text/plain": [
              "<Figure size 432x288 with 1 Axes>"
            ]
          },
          "metadata": {
            "tags": [],
            "needs_background": "light"
          }
        }
      ]
    },
    {
      "cell_type": "markdown",
      "metadata": {
        "id": "BQF6URp1ETMc",
        "colab_type": "text"
      },
      "source": [
        "#### *Archived: 'Complete' Linkage Method* "
      ]
    },
    {
      "cell_type": "code",
      "metadata": {
        "id": "yQJytVITapEc",
        "colab_type": "code",
        "colab": {
          "base_uri": "https://localhost:8080/",
          "height": 293
        },
        "outputId": "2e9cff03-8f55-4c93-84e9-fe0f118b17db"
      },
      "source": [
        "#Testing with a different linkage algorithm\n",
        "from scipy.cluster.hierarchy import dendrogram, linkage\n",
        "dendrogram = dendrogram(linkage(X_pca, method = 'complete'))\n",
        "plt.title('Dendrogram')\n",
        "plt.xlabel('questions')\n",
        "plt.ylabel('Euclidean distances')\n",
        "plt.show()"
      ],
      "execution_count": 23,
      "outputs": [
        {
          "output_type": "display_data",
          "data": {
            "image/png": "[encoded data removed]",
            "text/plain": [
              "<Figure size 432x288 with 1 Axes>"
            ]
          },
          "metadata": {
            "tags": [],
            "needs_background": "light"
          }
        }
      ]
    },
    {
      "cell_type": "markdown",
      "metadata": {
        "id": "E4LERTV-EvPm",
        "colab_type": "text"
      },
      "source": [
        "#### *Archived: Dendrogram with non-PCA data* "
      ]
    },
    {
      "cell_type": "code",
      "metadata": {
        "id": "jMP3Ah6Fcyqc",
        "colab_type": "code",
        "colab": {
          "base_uri": "https://localhost:8080/",
          "height": 293
        },
        "outputId": "d0cd2514-f30f-4197-b10b-a938d25c793f"
      },
      "source": [
        "#Testing with non-PCA data\n",
        "from scipy.cluster.hierarchy import dendrogram, linkage\n",
        "dendrogram = dendrogram(linkage(X, method = 'ward'))\n",
        "plt.title('Dendrogram')\n",
        "plt.xlabel('questions')\n",
        "plt.ylabel('Euclidean distances')\n",
        "plt.show()"
      ],
      "execution_count": 35,
      "outputs": [
        {
          "output_type": "display_data",
          "data": {
            "image/png": "[encoded data removed]",
            "text/plain": [
              "<Figure size 432x288 with 1 Axes>"
            ]
          },
          "metadata": {
            "tags": [],
            "needs_background": "light"
          }
        }
      ]
    }
  ]
}