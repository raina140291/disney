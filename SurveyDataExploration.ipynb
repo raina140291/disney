{
  "nbformat": 4,
  "nbformat_minor": 0,
  "metadata": {
    "colab": {
      "name": "SurveyDataExploration.ipynb",
      "provenance": [],
      "collapsed_sections": [],
      "authorship_tag": "ABX9TyOyydS4tOpybAd4J/a9fhlN",
      "include_colab_link": true
    },
    "kernelspec": {
      "name": "python3",
      "display_name": "Python 3"
    }
  },
  "cells": [
    {
      "cell_type": "markdown",
      "metadata": {
        "id": "view-in-github",
        "colab_type": "text"
      },
      "source": [
        "<a href=\"https://colab.research.google.com/github/raina140291/disney/blob/master/SurveyDataExploration.ipynb\" target=\"_parent\"><img src=\"https://colab.research.google.com/assets/colab-badge.svg\" alt=\"Open In Colab\"/></a>"
      ]
    },
    {
      "cell_type": "markdown",
      "metadata": {
        "id": "_VuBAr-ZUa_3",
        "colab_type": "text"
      },
      "source": [
        "# **DISNEY SURVEY DATA EXPLORATION**"
      ]
    },
    {
      "cell_type": "markdown",
      "metadata": {
        "id": "N5g11xuAUk4l",
        "colab_type": "text"
      },
      "source": [
        "### **Cloning Github repository**"
      ]
    },
    {
      "cell_type": "code",
      "metadata": {
        "id": "QwKIIXgvfGfR",
        "colab_type": "code",
        "colab": {
          "base_uri": "https://localhost:8080/",
          "height": 34
        },
        "outputId": "9a1c0636-56be-4356-d138-32be4c499620"
      },
      "source": [
        "!git clone https://github.com/raina140291/disney.git"
      ],
      "execution_count": 31,
      "outputs": [
        {
          "output_type": "stream",
          "text": [
            "fatal: destination path 'disney' already exists and is not an empty directory.\n"
          ],
          "name": "stdout"
        }
      ]
    },
    {
      "cell_type": "code",
      "metadata": {
        "id": "sTyqIz-pf4IX",
        "colab_type": "code",
        "colab": {
          "base_uri": "https://localhost:8080/",
          "height": 34
        },
        "outputId": "67d8fb3a-395d-4ee6-d3aa-5c97fa85a4a1"
      },
      "source": [
        "!ls disney/"
      ],
      "execution_count": 32,
      "outputs": [
        {
          "output_type": "stream",
          "text": [
            "README.md  SurveyDataExploration.ipynb\tThemePark.csv\n"
          ],
          "name": "stdout"
        }
      ]
    },
    {
      "cell_type": "markdown",
      "metadata": {
        "id": "cdoXQzWIUz4j",
        "colab_type": "text"
      },
      "source": [
        "### **Importing libraries**"
      ]
    },
    {
      "cell_type": "code",
      "metadata": {
        "id": "0wt7DhglcmqC",
        "colab_type": "code",
        "colab": {}
      },
      "source": [
        "import pandas as pd\n",
        "import numpy as np\n",
        "\n",
        "from sklearn.cluster import KMeans\n",
        "from sklearn.model_selection import train_test_split\n",
        "from sklearn.metrics import accuracy_score\n",
        "from sklearn.decomposition import PCA\n",
        "from sklearn.cluster import AgglomerativeClustering\n",
        "\n",
        "import matplotlib.pyplot as plt\n",
        "import matplotlib.pyplot as plotter\n",
        "import seaborn as sns\n",
        "color = sns.color_palette()\n",
        "%matplotlib inline\n",
        "\n",
        "import warnings\n",
        "warnings.filterwarnings('ignore')"
      ],
      "execution_count": 33,
      "outputs": []
    },
    {
      "cell_type": "markdown",
      "metadata": {
        "id": "_xHV6g8iU_Vy",
        "colab_type": "text"
      },
      "source": [
        "### **Reading Data**"
      ]
    },
    {
      "cell_type": "code",
      "metadata": {
        "id": "f37hY1xDdBfE",
        "colab_type": "code",
        "colab": {}
      },
      "source": [
        "df = pd.read_csv('disney/ThemePark.csv', index_col = 0, sep=\",\")"
      ],
      "execution_count": 34,
      "outputs": []
    },
    {
      "cell_type": "code",
      "metadata": {
        "id": "hPTvliSAFe7B",
        "colab_type": "code",
        "colab": {
          "base_uri": "https://localhost:8080/",
          "height": 487
        },
        "outputId": "bcf0277e-6a95-489e-b14e-d058635741f2"
      },
      "source": [
        "df.dtypes"
      ],
      "execution_count": 35,
      "outputs": [
        {
          "output_type": "execute_result",
          "data": {
            "text/plain": [
              "Visit_Year              int64\n",
              "Num_Adults              int64\n",
              "Num_Kids                int64\n",
              "Ticket_Source          object\n",
              "Ticket_Type            object\n",
              "Stay_Length            object\n",
              "Transport              object\n",
              "Digital_Assets         object\n",
              "Revisit_Concern         int64\n",
              "Top_Two                object\n",
              "Giftshop_Concern        int64\n",
              "F&B_Concern             int64\n",
              "Hotel_Concern           int64\n",
              "Themed_Concern          int64\n",
              "OSS_ROE                 int64\n",
              "Cast_Concern            int64\n",
              "Singlepath_Concern      int64\n",
              "Rides_Concern           int64\n",
              "Tempcheck_Concern       int64\n",
              "Digitalline_Concern     int64\n",
              "EE_ROE                  int64\n",
              "Potluck_ROE             int64\n",
              "Parade_ROE              int64\n",
              "Newhotel_ROE            int64\n",
              "Gender                 object\n",
              "Age                    object\n",
              "Country                object\n",
              "dtype: object"
            ]
          },
          "metadata": {
            "tags": []
          },
          "execution_count": 35
        }
      ]
    },
    {
      "cell_type": "code",
      "metadata": {
        "id": "BcjIebYoFcLX",
        "colab_type": "code",
        "colab": {
          "base_uri": "https://localhost:8080/",
          "height": 151
        },
        "outputId": "1edb3991-b4f4-40c2-c880-4e6be160cd40"
      },
      "source": [
        "df.columns"
      ],
      "execution_count": 36,
      "outputs": [
        {
          "output_type": "execute_result",
          "data": {
            "text/plain": [
              "Index(['Visit_Year', 'Num_Adults', 'Num_Kids', 'Ticket_Source', 'Ticket_Type',\n",
              "       'Stay_Length', 'Transport', 'Digital_Assets', 'Revisit_Concern',\n",
              "       'Top_Two', 'Giftshop_Concern', 'F&B_Concern', 'Hotel_Concern',\n",
              "       'Themed_Concern', 'OSS_ROE', 'Cast_Concern', 'Singlepath_Concern',\n",
              "       'Rides_Concern', 'Tempcheck_Concern', 'Digitalline_Concern', 'EE_ROE',\n",
              "       'Potluck_ROE', 'Parade_ROE', 'Newhotel_ROE', 'Gender', 'Age',\n",
              "       'Country'],\n",
              "      dtype='object')"
            ]
          },
          "metadata": {
            "tags": []
          },
          "execution_count": 36
        }
      ]
    },
    {
      "cell_type": "markdown",
      "metadata": {
        "id": "MPHOr_0dVDZl",
        "colab_type": "text"
      },
      "source": [
        "### **Descriptive Analytics**"
      ]
    },
    {
      "cell_type": "code",
      "metadata": {
        "id": "zNzbPVweEMbp",
        "colab_type": "code",
        "colab": {
          "base_uri": "https://localhost:8080/",
          "height": 1000
        },
        "outputId": "b0a6cdfb-d5d0-4d6c-c138-815011d8ea3a"
      },
      "source": [
        "#GENDER\n",
        "temp_series = df['Gender'].value_counts()\n",
        "labels = (np.array(temp_series.index))\n",
        "sizes = (np.array((temp_series / temp_series.sum())*100))\n",
        "\n",
        "figureObject, axesObject = plotter.subplots()\n",
        "axesObject.pie(sizes,\n",
        "        labels=labels,\n",
        "        autopct='%1.2f',\n",
        "        startangle=90)\n",
        "axesObject.axis('equal')\n",
        "plotter.show()\n",
        "\n",
        "#COUNTRY\n",
        "cnt_srs = df['Country'].value_counts().head(25)\n",
        "plt.figure(figsize=(8,12))\n",
        "sns.barplot(y=cnt_srs.index, x=cnt_srs.values, alpha=0.8)\n",
        "plt.xlabel('Number of respondents', fontsize=12)\n",
        "plt.ylabel('Country', fontsize=12)\n",
        "plt.title(\"Country wise number of respondents\", fontsize=15)\n",
        "plt.show()\n",
        "\n",
        "#AGE\n",
        "cnt_srs = df['Age'].value_counts()\n",
        "labels = (np.array(cnt_srs.index))\n",
        "sizes = (np.array((cnt_srs / cnt_srs.sum())*100))\n",
        "\n",
        "figureObject, axesObject = plotter.subplots()\n",
        "axesObject.pie(sizes,\n",
        "        labels=labels,\n",
        "        autopct='%1.2f',\n",
        "        startangle=90)\n",
        "axesObject.axis('equal')\n",
        "plotter.show()"
      ],
      "execution_count": 6,
      "outputs": [
        {
          "output_type": "display_data",
          "data": {
            "image/png": "[encoded data removed]",
            "text/plain": [
              "<Figure size 432x288 with 1 Axes>"
            ]
          },
          "metadata": {
            "tags": []
          }
        },
        {
          "output_type": "display_data",
          "data": {
            "image/png": "[encoded data removed]",
            "text/plain": [
              "<Figure size 576x864 with 1 Axes>"
            ]
          },
          "metadata": {
            "tags": [],
            "needs_background": "light"
          }
        },
        {
          "output_type": "display_data",
          "data": {
            "image/png": "[encoded data removed]",
            "text/plain": [
              "<Figure size 432x288 with 1 Axes>"
            ]
          },
          "metadata": {
            "tags": []
          }
        }
      ]
    },
    {
      "cell_type": "markdown",
      "metadata": {
        "id": "Z-_ro9rjVb2l",
        "colab_type": "text"
      },
      "source": [
        "### **Principal Component Analysis**\n",
        "We will use Principal Component Analysis (PCA) to do the dimensionality reduction. PCA can help us to identify patterns based on the correlation between features."
      ]
    },
    {
      "cell_type": "code",
      "metadata": {
        "id": "hqUOkVV6pm9S",
        "colab_type": "code",
        "colab": {
          "base_uri": "https://localhost:8080/",
          "height": 34
        },
        "outputId": "50e024b9-f0ff-4dfe-ea99-48a353cebc0d"
      },
      "source": [
        "X = df[['Revisit_Concern', 'Giftshop_Concern', 'F&B_Concern', 'Hotel_Concern', \n",
        "                             'Themed_Concern', 'OSS_ROE', 'Cast_Concern', 'Singlepath_Concern', \n",
        "                             'Rides_Concern', 'Tempcheck_Concern', 'Digitalline_Concern']]\n",
        "pca = PCA(n_components = 2, random_state=1)\n",
        "X_pca = pca.fit_transform(X)\n",
        "pca.explained_variance_ratio_.cumsum()[1]"
      ],
      "execution_count": 12,
      "outputs": [
        {
          "output_type": "execute_result",
          "data": {
            "text/plain": [
              "0.5954834693602283"
            ]
          },
          "metadata": {
            "tags": []
          },
          "execution_count": 12
        }
      ]
    },
    {
      "cell_type": "markdown",
      "metadata": {
        "id": "Qt2et3yHZUz4",
        "colab_type": "text"
      },
      "source": [
        "One drawback of using PCA is the new features generated by PCA will have less variance than the original features. This means we might lose some information and lower the predictive power of our model. In our case, we only managed to preserve ~60% of the variance which is less than ideal.\n"
      ]
    },
    {
      "cell_type": "markdown",
      "metadata": {
        "id": "wh2IrEfGVsui",
        "colab_type": "text"
      },
      "source": [
        "### **Agglomerative Clustering**\n",
        "Agglomerative Clustering will assign each observation as individual cluster and merge those clusters based on their distance (similarity) pair by pair, iteratively. We will focus on Ward’s linkage algorithm which merges clusters that lead to minimum increase of Sum of Square Error (SSE)."
      ]
    },
    {
      "cell_type": "code",
      "metadata": {
        "id": "xjMUU2SKXIAr",
        "colab_type": "code",
        "colab": {
          "base_uri": "https://localhost:8080/",
          "height": 293
        },
        "outputId": "cf89488d-712e-4b3f-ba45-7c3b10977bcb"
      },
      "source": [
        "from scipy.cluster.hierarchy import dendrogram, linkage\n",
        "dendrogram = dendrogram(linkage(X_pca, method = 'ward'))\n",
        "plt.title('Dendrogram')\n",
        "plt.xlabel('questions')\n",
        "plt.ylabel('Euclidean distances')\n",
        "plt.show()"
      ],
      "execution_count": 22,
      "outputs": [
        {
          "output_type": "display_data",
          "data": {
            "image/png": "[encoded data removed]",
            "text/plain": [
              "<Figure size 432x288 with 1 Axes>"
            ]
          },
          "metadata": {
            "tags": [],
            "needs_background": "light"
          }
        }
      ]
    },
    {
      "cell_type": "code",
      "metadata": {
        "id": "yQJytVITapEc",
        "colab_type": "code",
        "colab": {
          "base_uri": "https://localhost:8080/",
          "height": 293
        },
        "outputId": "66095305-b64a-4cbc-8648-d2f7851d1ad5"
      },
      "source": [
        "#Testing with a different linkage algorithm\n",
        "from scipy.cluster.hierarchy import dendrogram, linkage\n",
        "dendrogram = dendrogram(linkage(X_pca, method = 'complete'))\n",
        "plt.title('Dendrogram')\n",
        "plt.xlabel('questions')\n",
        "plt.ylabel('Euclidean distances')\n",
        "plt.show()"
      ],
      "execution_count": 23,
      "outputs": [
        {
          "output_type": "display_data",
          "data": {
            "image/png": "[encoded data removed]",
            "text/plain": [
              "<Figure size 432x288 with 1 Axes>"
            ]
          },
          "metadata": {
            "tags": [],
            "needs_background": "light"
          }
        }
      ]
    },
    {
      "cell_type": "code",
      "metadata": {
        "id": "jMP3Ah6Fcyqc",
        "colab_type": "code",
        "colab": {
          "base_uri": "https://localhost:8080/",
          "height": 293
        },
        "outputId": "2b2978d4-6829-47d8-bb3c-c032996164fd"
      },
      "source": [
        "#Testing with non-PCA data\n",
        "from scipy.cluster.hierarchy import dendrogram, linkage\n",
        "dendrogram = dendrogram(linkage(X, method = 'ward'))\n",
        "plt.title('Dendrogram')\n",
        "plt.xlabel('questions')\n",
        "plt.ylabel('Euclidean distances')\n",
        "plt.show()"
      ],
      "execution_count": 25,
      "outputs": [
        {
          "output_type": "display_data",
          "data": {
            "image/png": "[encoded data removed]",
            "text/plain": [
              "<Figure size 432x288 with 1 Axes>"
            ]
          },
          "metadata": {
            "tags": [],
            "needs_background": "light"
          }
        }
      ]
    },
    {
      "cell_type": "markdown",
      "metadata": {
        "id": "AVD5XCd7aT-0",
        "colab_type": "text"
      },
      "source": [
        "There are two colours : green and red. This mean the best k number of clusters according to Ward’s linkage (method = ‘ward’) is two."
      ]
    },
    {
      "cell_type": "code",
      "metadata": {
        "id": "N9q0m5sAbgRs",
        "colab_type": "code",
        "colab": {}
      },
      "source": [
        "model = AgglomerativeClustering(n_clusters = 2, \n",
        "                          affinity ='euclidean', \n",
        "                          linkage ='ward')\n",
        "y = model.fit_predict(X)"
      ],
      "execution_count": 26,
      "outputs": []
    },
    {
      "cell_type": "markdown",
      "metadata": {
        "id": "qIMJ5N23V3-E",
        "colab_type": "text"
      },
      "source": [
        "### **Cluster Analysis**"
      ]
    },
    {
      "cell_type": "code",
      "metadata": {
        "id": "x-eyi0JBi0oj",
        "colab_type": "code",
        "colab": {}
      },
      "source": [
        "df['Cluster'] = y"
      ],
      "execution_count": 27,
      "outputs": []
    },
    {
      "cell_type": "code",
      "metadata": {
        "id": "LOi8q8xxi0r7",
        "colab_type": "code",
        "colab": {}
      },
      "source": [
        "df_cluster1 = df[df['Cluster']==0]\n",
        "df_cluster2 = df[df['Cluster']==1]"
      ],
      "execution_count": 28,
      "outputs": []
    },
    {
      "cell_type": "markdown",
      "metadata": {
        "id": "f2PGMwP0drcr",
        "colab_type": "text"
      },
      "source": [
        "\n",
        "#### **Persona 1: AAA**\n"
      ]
    },
    {
      "cell_type": "code",
      "metadata": {
        "id": "bS78-MX1kBFW",
        "colab_type": "code",
        "colab": {}
      },
      "source": [
        ""
      ],
      "execution_count": null,
      "outputs": []
    },
    {
      "cell_type": "markdown",
      "metadata": {
        "id": "x3Fd1iERdz0f",
        "colab_type": "text"
      },
      "source": [
        "#### **Persona 2: AAA**"
      ]
    },
    {
      "cell_type": "code",
      "metadata": {
        "id": "YD5CFPDskBMU",
        "colab_type": "code",
        "colab": {}
      },
      "source": [
        ""
      ],
      "execution_count": null,
      "outputs": []
    },
    {
      "cell_type": "code",
      "metadata": {
        "id": "UDPf2HmlkBJT",
        "colab_type": "code",
        "colab": {}
      },
      "source": [
        ""
      ],
      "execution_count": null,
      "outputs": []
    },
    {
      "cell_type": "code",
      "metadata": {
        "id": "r0giYzPpkBCz",
        "colab_type": "code",
        "colab": {}
      },
      "source": [
        ""
      ],
      "execution_count": null,
      "outputs": []
    },
    {
      "cell_type": "code",
      "metadata": {
        "id": "e9OCVYmzj88F",
        "colab_type": "code",
        "colab": {}
      },
      "source": [
        ""
      ],
      "execution_count": null,
      "outputs": []
    },
    {
      "cell_type": "code",
      "metadata": {
        "id": "Iv0Zd8SNj9Ba",
        "colab_type": "code",
        "colab": {}
      },
      "source": [
        ""
      ],
      "execution_count": null,
      "outputs": []
    },
    {
      "cell_type": "code",
      "metadata": {
        "id": "53tH7Dtdj9G_",
        "colab_type": "code",
        "colab": {}
      },
      "source": [
        ""
      ],
      "execution_count": null,
      "outputs": []
    },
    {
      "cell_type": "code",
      "metadata": {
        "id": "90YeTu39j9MX",
        "colab_type": "code",
        "colab": {}
      },
      "source": [
        ""
      ],
      "execution_count": null,
      "outputs": []
    },
    {
      "cell_type": "code",
      "metadata": {
        "id": "nrFU-5j8j9Qb",
        "colab_type": "code",
        "colab": {}
      },
      "source": [
        ""
      ],
      "execution_count": null,
      "outputs": []
    },
    {
      "cell_type": "code",
      "metadata": {
        "id": "kSDuqhjcj9KF",
        "colab_type": "code",
        "colab": {}
      },
      "source": [
        ""
      ],
      "execution_count": null,
      "outputs": []
    },
    {
      "cell_type": "code",
      "metadata": {
        "id": "pTv3AOFtj9Ee",
        "colab_type": "code",
        "colab": {}
      },
      "source": [
        ""
      ],
      "execution_count": null,
      "outputs": []
    },
    {
      "cell_type": "code",
      "metadata": {
        "id": "TbSlgWmyj8--",
        "colab_type": "code",
        "colab": {}
      },
      "source": [
        ""
      ],
      "execution_count": null,
      "outputs": []
    },
    {
      "cell_type": "code",
      "metadata": {
        "id": "mOwY6MjMjHbJ",
        "colab_type": "code",
        "colab": {}
      },
      "source": [
        ""
      ],
      "execution_count": null,
      "outputs": []
    },
    {
      "cell_type": "markdown",
      "metadata": {
        "id": "Kg33bmsXV99a",
        "colab_type": "text"
      },
      "source": [
        "#### *Archived: KMeans* \n",
        "\n",
        "Since we have a mixture of scales and information, K-means (which assumes continuously distributed information only) is not an appropriate technique. Instead we use traditional PCA."
      ]
    },
    {
      "cell_type": "code",
      "metadata": {
        "id": "73M4t380dV5P",
        "colab_type": "code",
        "colab": {
          "base_uri": "https://localhost:8080/",
          "height": 279
        },
        "outputId": "4cb44937-af8c-4630-c0f8-9b4aff82b61a"
      },
      "source": [
        "distortions = []\n",
        "K_to_try = range(1, 6)\n",
        "\n",
        "for i in K_to_try:\n",
        "    model = KMeans(\n",
        "            n_clusters=i,\n",
        "            init='k-means++',\n",
        "            n_jobs=-1,\n",
        "            random_state=1)\n",
        "    model.fit(X_pca)\n",
        "    distortions.append(model.inertia_)\n",
        "plt.plot(K_to_try, distortions, marker='o')\n",
        "plt.xlabel('Number of Clusters (k)')\n",
        "plt.ylabel('Distortion')\n",
        "plt.show()"
      ],
      "execution_count": 11,
      "outputs": [
        {
          "output_type": "display_data",
          "data": {
            "image/png": "[encoded data removed]",
            "text/plain": [
              "<Figure size 432x288 with 1 Axes>"
            ]
          },
          "metadata": {
            "tags": [],
            "needs_background": "light"
          }
        }
      ]
    },
    {
      "cell_type": "code",
      "metadata": {
        "id": "hZ_3QzIck8VA",
        "colab_type": "code",
        "colab": {}
      },
      "source": [
        "model = KMeans(\n",
        "    n_clusters=2,\n",
        "    init='k-means++',\n",
        "    n_jobs=-1,\n",
        "    random_state=1)\n",
        "\n",
        "model = model.fit(X_pca)\n",
        "\n",
        "y_kmeans = model.predict(X_pca)"
      ],
      "execution_count": 34,
      "outputs": []
    },
    {
      "cell_type": "code",
      "metadata": {
        "id": "NiLhSFaCZ4q0",
        "colab_type": "code",
        "colab": {
          "base_uri": "https://localhost:8080/",
          "height": 295
        },
        "outputId": "3cee24b4-dddc-48ff-a355-4e6b5ee3c464"
      },
      "source": [
        "plt.scatter(X_pca[y_kmeans==0, 0], X_pca[y_kmeans==0, 1], s=100, c='red', label ='Cluster 1')\n",
        "plt.scatter(X_pca[y_kmeans==1, 0], X_pca[y_kmeans==1, 1], s=100, c='blue', label ='Cluster 2')\n",
        "plt.scatter(X_pca[y_kmeans==2, 0], X_pca[y_kmeans==2, 1], s=100, c='green', label ='Cluster 3')\n",
        "plt.scatter(X_pca[y_kmeans==3, 0], X_pca[y_kmeans==3, 1], s=100, c='cyan', label ='Cluster 4')\n",
        "plt.scatter(X_pca[y_kmeans==4, 0], X_pca[y_kmeans==4, 1], s=100, c='magenta', label ='Cluster 5')\n",
        "\n",
        "plt.scatter(model.cluster_centers_[:, 0], model.cluster_centers_[:, 1], s=300, c='yellow', label = 'Centroids')\n",
        "plt.title('Clusters of Customers')\n",
        "plt.xlabel('Annual Income(k$)')\n",
        "plt.ylabel('Spending Score(1-100')\n",
        "plt.show()"
      ],
      "execution_count": 35,
      "outputs": [
        {
          "output_type": "display_data",
          "data": {
            "image/png": "[encoded data removed]",
            "text/plain": [
              "<Figure size 432x288 with 1 Axes>"
            ]
          },
          "metadata": {
            "tags": [],
            "needs_background": "light"
          }
        }
      ]
    }
  ]
}