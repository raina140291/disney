{
  "nbformat": 4,
  "nbformat_minor": 0,
  "metadata": {
    "colab": {
      "name": "SurveyDataExploration.ipynb",
      "provenance": [],
      "collapsed_sections": [],
      "authorship_tag": "ABX9TyPLh60qZZNQ+7RsYvXj98k5",
      "include_colab_link": true
    },
    "kernelspec": {
      "name": "python3",
      "display_name": "Python 3"
    }
  },
  "cells": [
    {
      "cell_type": "markdown",
      "metadata": {
        "id": "view-in-github",
        "colab_type": "text"
      },
      "source": [
        "<a href=\"https://colab.research.google.com/github/raina140291/disney/blob/master/SurveyDataExploration.ipynb\" target=\"_parent\"><img src=\"https://colab.research.google.com/assets/colab-badge.svg\" alt=\"Open In Colab\"/></a>"
      ]
    },
    {
      "cell_type": "code",
      "metadata": {
        "id": "QwKIIXgvfGfR",
        "colab_type": "code",
        "colab": {
          "base_uri": "https://localhost:8080/",
          "height": 118
        },
        "outputId": "722240c2-a0f0-4651-cffc-b5458d62499e"
      },
      "source": [
        "#!git clone https://github.com/raina140291/disney.git"
      ],
      "execution_count": 1,
      "outputs": [
        {
          "output_type": "stream",
          "text": [
            "Cloning into 'disney'...\n",
            "remote: Enumerating objects: 18, done.\u001b[K\n",
            "remote: Counting objects: 100% (18/18), done.\u001b[K\n",
            "remote: Compressing objects: 100% (15/15), done.\u001b[K\n",
            "remote: Total 18 (delta 5), reused 2 (delta 0), pack-reused 0\u001b[K\n",
            "Unpacking objects: 100% (18/18), done.\n"
          ],
          "name": "stdout"
        }
      ]
    },
    {
      "cell_type": "code",
      "metadata": {
        "id": "sTyqIz-pf4IX",
        "colab_type": "code",
        "colab": {
          "base_uri": "https://localhost:8080/",
          "height": 34
        },
        "outputId": "e0fbf6dd-368f-4bd0-add6-7e97ded78457"
      },
      "source": [
        "#!ls disney/"
      ],
      "execution_count": 2,
      "outputs": [
        {
          "output_type": "stream",
          "text": [
            "README.md  SurveyDataExploration.ipynb\tThemePark.csv\n"
          ],
          "name": "stdout"
        }
      ]
    },
    {
      "cell_type": "code",
      "metadata": {
        "id": "_v4R5JBCHNmW",
        "colab_type": "code",
        "colab": {}
      },
      "source": [
        "#!pip install plotly --upgrade"
      ],
      "execution_count": null,
      "outputs": []
    },
    {
      "cell_type": "code",
      "metadata": {
        "id": "0wt7DhglcmqC",
        "colab_type": "code",
        "colab": {
          "base_uri": "https://localhost:8080/",
          "height": 17
        },
        "outputId": "f890718c-4715-43ee-b77d-e3f8ea318eaf"
      },
      "source": [
        "import pandas as pd\n",
        "import numpy as np\n",
        "\n",
        "from sklearn.cluster import KMeans\n",
        "from sklearn.model_selection import train_test_split\n",
        "\n",
        "import matplotlib.pyplot as plt\n",
        "import matplotlib.pyplot as plotter\n",
        "#import seaborn as sns\n",
        "#color = sns.color_palette()\n",
        "%matplotlib inline"
      ],
      "execution_count": 22,
      "outputs": [
        {
          "output_type": "display_data",
          "data": {
            "text/html": [
              "        <script type=\"text/javascript\">\n",
              "        window.PlotlyConfig = {MathJaxConfig: 'local'};\n",
              "        if (window.MathJax) {MathJax.Hub.Config({SVG: {font: \"STIX-Web\"}});}\n",
              "        if (typeof require !== 'undefined') {\n",
              "        require.undef(\"plotly\");\n",
              "        requirejs.config({\n",
              "            paths: {\n",
              "                'plotly': ['https://cdn.plot.ly/plotly-latest.min']\n",
              "            }\n",
              "        });\n",
              "        require(['plotly'], function(Plotly) {\n",
              "            window._Plotly = Plotly;\n",
              "        });\n",
              "        }\n",
              "        </script>\n",
              "        "
            ]
          },
          "metadata": {
            "tags": []
          }
        }
      ]
    },
    {
      "cell_type": "code",
      "metadata": {
        "id": "f37hY1xDdBfE",
        "colab_type": "code",
        "colab": {}
      },
      "source": [
        "#Read CSV into dataframe\n",
        "df = pd.read_csv('disney/ThemePark.csv', index_col = 0, sep=\",\")"
      ],
      "execution_count": 23,
      "outputs": []
    },
    {
      "cell_type": "code",
      "metadata": {
        "id": "hPTvliSAFe7B",
        "colab_type": "code",
        "colab": {}
      },
      "source": [
        "df.dtypes"
      ],
      "execution_count": null,
      "outputs": []
    },
    {
      "cell_type": "code",
      "metadata": {
        "id": "BcjIebYoFcLX",
        "colab_type": "code",
        "colab": {
          "base_uri": "https://localhost:8080/",
          "height": 151
        },
        "outputId": "9f3d8558-31b3-4455-e02b-b698276bc642"
      },
      "source": [
        "df.columns"
      ],
      "execution_count": 5,
      "outputs": [
        {
          "output_type": "execute_result",
          "data": {
            "text/plain": [
              "Index(['Visit_Year', 'Num_Adults', 'Num_Kids', 'Ticket_Source', 'Ticket_Type',\n",
              "       'Stay_Length', 'Transport', 'Digital_Assets', 'Revisit_Concern',\n",
              "       'Top_Two', 'Giftshop_Concern', 'F&B_Concern', 'Hotel_Concern',\n",
              "       'Themed_Concern', 'OSS_ROE', 'Cast_Concern', 'Singlepath_Concern',\n",
              "       'Rides_Concern', 'Tempcheck_Concern', 'Digitalline_Concern', 'EE_ROE',\n",
              "       'Potluck_ROE', 'Parade_ROE', 'Newhotel_ROE', 'Gender', 'Age',\n",
              "       'Country'],\n",
              "      dtype='object')"
            ]
          },
          "metadata": {
            "tags": []
          },
          "execution_count": 5
        }
      ]
    },
    {
      "cell_type": "code",
      "metadata": {
        "id": "zNzbPVweEMbp",
        "colab_type": "code",
        "colab": {
          "base_uri": "https://localhost:8080/",
          "height": 248
        },
        "outputId": "0576b95f-ef48-4784-ad49-4fa7e884fe2d"
      },
      "source": [
        "#Desriptive Analytics - GENDER\n",
        "temp_series = df['Gender'].value_counts()\n",
        "labels = (np.array(temp_series.index))\n",
        "sizes = (np.array((temp_series / temp_series.sum())*100))\n",
        "\n",
        "figureObject, axesObject = plotter.subplots()\n",
        "axesObject.pie(sizes,\n",
        "        labels=labels,\n",
        "        autopct='%1.2f',\n",
        "        startangle=90)\n",
        "axesObject.axis('equal')\n",
        "plotter.show()"
      ],
      "execution_count": 34,
      "outputs": [
        {
          "output_type": "display_data",
          "data": {
            "image/png": "[encoded data removed]",
            "text/plain": [
              "<Figure size 432x288 with 1 Axes>"
            ]
          },
          "metadata": {
            "tags": []
          }
        }
      ]
    },
    {
      "cell_type": "code",
      "metadata": {
        "id": "TS5d6CE4iH8k",
        "colab_type": "code",
        "colab": {
          "base_uri": "https://localhost:8080/",
          "height": 735
        },
        "outputId": "5e8afcbd-5cd7-4df1-cd1a-e2ad525555c4"
      },
      "source": [
        "#Desriptive Analytics - COUNTRY\n",
        "cnt_srs = df['Country'].value_counts().head(25)\n",
        "plt.figure(figsize=(8,12))\n",
        "sns.barplot(y=cnt_srs.index, x=cnt_srs.values, alpha=0.8)\n",
        "plt.xlabel('Number of respondents', fontsize=12)\n",
        "plt.ylabel('Country', fontsize=12)\n",
        "plt.title(\"Country wise number of respondents\", fontsize=15)\n",
        "plt.show()"
      ],
      "execution_count": 31,
      "outputs": [
        {
          "output_type": "display_data",
          "data": {
            "image/png": "[encoded data removed]",
            "text/plain": [
              "<Figure size 576x864 with 1 Axes>"
            ]
          },
          "metadata": {
            "tags": [],
            "needs_background": "light"
          }
        }
      ]
    },
    {
      "cell_type": "code",
      "metadata": {
        "id": "sIOAJvX1ifx3",
        "colab_type": "code",
        "colab": {
          "base_uri": "https://localhost:8080/",
          "height": 254
        },
        "outputId": "1a59383b-6735-45c3-ba56-135a2c827698"
      },
      "source": [
        "#Desriptive Analytics - AGE\n",
        "cnt_srs = df['Age'].value_counts()\n",
        "labels = (np.array(cnt_srs.index))\n",
        "sizes = (np.array((cnt_srs / cnt_srs.sum())*100))\n",
        "\n",
        "figureObject, axesObject = plotter.subplots()\n",
        "axesObject.pie(sizes,\n",
        "        labels=labels,\n",
        "        autopct='%1.2f',\n",
        "        startangle=90)\n",
        "axesObject.axis('equal')\n",
        "plotter.show()"
      ],
      "execution_count": 36,
      "outputs": [
        {
          "output_type": "display_data",
          "data": {
            "image/png": "[encoded data removed]",
            "text/plain": [
              "<Figure size 432x288 with 1 Axes>"
            ]
          },
          "metadata": {
            "tags": []
          }
        }
      ]
    },
    {
      "cell_type": "code",
      "metadata": {
        "id": "73M4t380dV5P",
        "colab_type": "code",
        "colab": {}
      },
      "source": [
        "kmeans = KMeans(n_clusters=2, n_init=3, max_iter=3000, random_state=1)\n",
        "(X_train, X_test) = train_test_split(X,test_size=0.30)\n",
        "kmeans = kmeans.fit(X_train[['value_1','value_2']])\n",
        "X_train.loc[:,'labels'] = kmeans.labels_"
      ],
      "execution_count": null,
      "outputs": []
    }
  ]
}