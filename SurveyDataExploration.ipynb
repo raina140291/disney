{
  "nbformat": 4,
  "nbformat_minor": 0,
  "metadata": {
    "colab": {
      "name": "SurveyDataExploration.ipynb",
      "provenance": [],
      "collapsed_sections": [],
      "authorship_tag": "ABX9TyNeKiIuN7GBFmL1inW0v0f2",
      "include_colab_link": true
    },
    "kernelspec": {
      "name": "python3",
      "display_name": "Python 3"
    }
  },
  "cells": [
    {
      "cell_type": "markdown",
      "metadata": {
        "id": "view-in-github",
        "colab_type": "text"
      },
      "source": [
        "<a href=\"https://colab.research.google.com/github/raina140291/disney/blob/master/SurveyDataExploration.ipynb\" target=\"_parent\"><img src=\"https://colab.research.google.com/assets/colab-badge.svg\" alt=\"Open In Colab\"/></a>"
      ]
    },
    {
      "cell_type": "markdown",
      "metadata": {
        "id": "_VuBAr-ZUa_3",
        "colab_type": "text"
      },
      "source": [
        "# **DISNEY SURVEY DATA EXPLORATION**"
      ]
    },
    {
      "cell_type": "markdown",
      "metadata": {
        "id": "cdoXQzWIUz4j",
        "colab_type": "text"
      },
      "source": [
        "### **Importing libraries**"
      ]
    },
    {
      "cell_type": "code",
      "metadata": {
        "id": "0wt7DhglcmqC",
        "colab_type": "code",
        "colab": {
          "base_uri": "https://localhost:8080/",
          "height": 70
        },
        "outputId": "1295ee09-df7e-42d7-fdeb-09f604436556"
      },
      "source": [
        "import pandas as pd\n",
        "import numpy as np\n",
        "\n",
        "from sklearn.preprocessing import LabelEncoder\n",
        "from sklearn.cluster import KMeans\n",
        "from sklearn.model_selection import train_test_split\n",
        "from sklearn.metrics import accuracy_score\n",
        "from sklearn.decomposition import PCA\n",
        "from sklearn.cluster import AgglomerativeClustering\n",
        "\n",
        "import matplotlib.pyplot as plt\n",
        "import matplotlib.pyplot as plotter\n",
        "import seaborn as sns\n",
        "color = sns.color_palette()\n",
        "%matplotlib inline\n",
        "\n",
        "import warnings\n",
        "warnings.filterwarnings('ignore')"
      ],
      "execution_count": 2,
      "outputs": [
        {
          "output_type": "stream",
          "text": [
            "/usr/local/lib/python3.6/dist-packages/statsmodels/tools/_testing.py:19: FutureWarning: pandas.util.testing is deprecated. Use the functions in the public API at pandas.testing instead.\n",
            "  import pandas.util.testing as tm\n"
          ],
          "name": "stderr"
        }
      ]
    },
    {
      "cell_type": "markdown",
      "metadata": {
        "id": "N5g11xuAUk4l",
        "colab_type": "text"
      },
      "source": [
        "### **Cloning Github repository**"
      ]
    },
    {
      "cell_type": "code",
      "metadata": {
        "id": "QwKIIXgvfGfR",
        "colab_type": "code",
        "colab": {
          "base_uri": "https://localhost:8080/",
          "height": 118
        },
        "outputId": "8284177b-8de2-41d6-abc2-3d85e0568dfc"
      },
      "source": [
        "!git clone https://github.com/raina140291/disney.git temp\n",
        "!mv -f temp/ThemePark.csv ThemePark.csv\n",
        "!rm -rf temp"
      ],
      "execution_count": 12,
      "outputs": [
        {
          "output_type": "stream",
          "text": [
            "Cloning into 'temp'...\n",
            "remote: Enumerating objects: 40, done.\u001b[K\n",
            "remote: Counting objects:   2% (1/40)\u001b[K\rremote: Counting objects:   5% (2/40)\u001b[K\rremote: Counting objects:   7% (3/40)\u001b[K\rremote: Counting objects:  10% (4/40)\u001b[K\rremote: Counting objects:  12% (5/40)\u001b[K\rremote: Counting objects:  15% (6/40)\u001b[K\rremote: Counting objects:  17% (7/40)\u001b[K\rremote: Counting objects:  20% (8/40)\u001b[K\rremote: Counting objects:  22% (9/40)\u001b[K\rremote: Counting objects:  25% (10/40)\u001b[K\rremote: Counting objects:  27% (11/40)\u001b[K\rremote: Counting objects:  30% (12/40)\u001b[K\rremote: Counting objects:  32% (13/40)\u001b[K\rremote: Counting objects:  35% (14/40)\u001b[K\rremote: Counting objects:  37% (15/40)\u001b[K\rremote: Counting objects:  40% (16/40)\u001b[K\rremote: Counting objects:  42% (17/40)\u001b[K\rremote: Counting objects:  45% (18/40)\u001b[K\rremote: Counting objects:  47% (19/40)\u001b[K\rremote: Counting objects:  50% (20/40)\u001b[K\rremote: Counting objects:  52% (21/40)\u001b[K\rremote: Counting objects:  55% (22/40)\u001b[K\rremote: Counting objects:  57% (23/40)\u001b[K\rremote: Counting objects:  60% (24/40)\u001b[K\rremote: Counting objects:  62% (25/40)\u001b[K\rremote: Counting objects:  65% (26/40)\u001b[K\rremote: Counting objects:  67% (27/40)\u001b[K\rremote: Counting objects:  70% (28/40)\u001b[K\rremote: Counting objects:  72% (29/40)\u001b[K\rremote: Counting objects:  75% (30/40)\u001b[K\rremote: Counting objects:  77% (31/40)\u001b[K\rremote: Counting objects:  80% (32/40)\u001b[K\rremote: Counting objects:  82% (33/40)\u001b[K\rremote: Counting objects:  85% (34/40)\u001b[K\rremote: Counting objects:  87% (35/40)\u001b[K\rremote: Counting objects:  90% (36/40)\u001b[K\rremote: Counting objects:  92% (37/40)\u001b[K\rremote: Counting objects:  95% (38/40)\u001b[K\rremote: Counting objects:  97% (39/40)\u001b[K\rremote: Counting objects: 100% (40/40)\u001b[K\rremote: Counting objects: 100% (40/40), done.\u001b[K\n",
            "remote: Compressing objects:   2% (1/37)\u001b[K\rremote: Compressing objects:   5% (2/37)\u001b[K\rremote: Compressing objects:   8% (3/37)\u001b[K\rremote: Compressing objects:  10% (4/37)\u001b[K\rremote: Compressing objects:  13% (5/37)\u001b[K\rremote: Compressing objects:  16% (6/37)\u001b[K\rremote: Compressing objects:  18% (7/37)\u001b[K\rremote: Compressing objects:  21% (8/37)\u001b[K\rremote: Compressing objects:  24% (9/37)\u001b[K\rremote: Compressing objects:  27% (10/37)\u001b[K\rremote: Compressing objects:  29% (11/37)\u001b[K\rremote: Compressing objects:  32% (12/37)\u001b[K\rremote: Compressing objects:  35% (13/37)\u001b[K\rremote: Compressing objects:  37% (14/37)\u001b[K\rremote: Compressing objects:  40% (15/37)\u001b[K\rremote: Compressing objects:  43% (16/37)\u001b[K\rremote: Compressing objects:  45% (17/37)\u001b[K\rremote: Compressing objects:  48% (18/37)\u001b[K\rremote: Compressing objects:  51% (19/37)\u001b[K\rremote: Compressing objects:  54% (20/37)\u001b[K\rremote: Compressing objects:  56% (21/37)\u001b[K\rremote: Compressing objects:  59% (22/37)\u001b[K\rremote: Compressing objects:  62% (23/37)\u001b[K\rremote: Compressing objects:  64% (24/37)\u001b[K\rremote: Compressing objects:  67% (25/37)\u001b[K\rremote: Compressing objects:  70% (26/37)\u001b[K\rremote: Compressing objects:  72% (27/37)\u001b[K\rremote: Compressing objects:  75% (28/37)\u001b[K\rremote: Compressing objects:  78% (29/37)\u001b[K\rremote: Compressing objects:  81% (30/37)\u001b[K\rremote: Compressing objects:  83% (31/37)\u001b[K\rremote: Compressing objects:  86% (32/37)\u001b[K\rremote: Compressing objects:  89% (33/37)\u001b[K\rremote: Compressing objects:  91% (34/37)\u001b[K\rremote: Compressing objects:  94% (35/37)\u001b[K\rremote: Compressing objects:  97% (36/37)\u001b[K\rremote: Compressing objects: 100% (37/37)\u001b[K\rremote: Compressing objects: 100% (37/37), done.\u001b[K\n",
            "Unpacking objects:   2% (1/40)   \rUnpacking objects:   5% (2/40)   \rUnpacking objects:   7% (3/40)   \rUnpacking objects:  10% (4/40)   \rUnpacking objects:  12% (5/40)   \rUnpacking objects:  15% (6/40)   \rUnpacking objects:  17% (7/40)   \rUnpacking objects:  20% (8/40)   \rUnpacking objects:  22% (9/40)   \rUnpacking objects:  25% (10/40)   \rUnpacking objects:  27% (11/40)   \rUnpacking objects:  30% (12/40)   \rUnpacking objects:  32% (13/40)   \rUnpacking objects:  35% (14/40)   \rUnpacking objects:  37% (15/40)   \rUnpacking objects:  40% (16/40)   \rremote: Total 40 (delta 15), reused 2 (delta 0), pack-reused 0\u001b[K\n",
            "Unpacking objects:  42% (17/40)   \rUnpacking objects:  45% (18/40)   \rUnpacking objects:  47% (19/40)   \rUnpacking objects:  50% (20/40)   \rUnpacking objects:  52% (21/40)   \rUnpacking objects:  55% (22/40)   \rUnpacking objects:  57% (23/40)   \rUnpacking objects:  60% (24/40)   \rUnpacking objects:  62% (25/40)   \rUnpacking objects:  65% (26/40)   \rUnpacking objects:  67% (27/40)   \rUnpacking objects:  70% (28/40)   \rUnpacking objects:  72% (29/40)   \rUnpacking objects:  75% (30/40)   \rUnpacking objects:  77% (31/40)   \rUnpacking objects:  80% (32/40)   \rUnpacking objects:  82% (33/40)   \rUnpacking objects:  85% (34/40)   \rUnpacking objects:  87% (35/40)   \rUnpacking objects:  90% (36/40)   \rUnpacking objects:  92% (37/40)   \rUnpacking objects:  95% (38/40)   \rUnpacking objects:  97% (39/40)   \rUnpacking objects: 100% (40/40)   \rUnpacking objects: 100% (40/40), done.\n"
          ],
          "name": "stdout"
        }
      ]
    },
    {
      "cell_type": "markdown",
      "metadata": {
        "id": "_xHV6g8iU_Vy",
        "colab_type": "text"
      },
      "source": [
        "### **Reading Data**"
      ]
    },
    {
      "cell_type": "code",
      "metadata": {
        "id": "f37hY1xDdBfE",
        "colab_type": "code",
        "colab": {}
      },
      "source": [
        "df = pd.read_csv('ThemePark.csv', index_col = 0, sep=\",\")"
      ],
      "execution_count": 19,
      "outputs": []
    },
    {
      "cell_type": "code",
      "metadata": {
        "id": "BcjIebYoFcLX",
        "colab_type": "code",
        "colab": {
          "base_uri": "https://localhost:8080/",
          "height": 151
        },
        "outputId": "f11e8d17-3b46-4c38-9006-7d92bac16810"
      },
      "source": [
        "df.columns"
      ],
      "execution_count": 14,
      "outputs": [
        {
          "output_type": "execute_result",
          "data": {
            "text/plain": [
              "Index(['Visit_Year', 'Num_Adults', 'Num_Kids', 'Ticket_Source', 'Ticket_Type',\n",
              "       'Stay_Length', 'Transport', 'Digital_Assets', 'Revisit_Concern',\n",
              "       'Top_One', 'Top_Two', 'Giftshop_Concern', 'F&B_Concern',\n",
              "       'Hotel_Concern', 'Themed_Concern', 'OSS_ROE', 'Cast_Concern',\n",
              "       'Singlepath_Concern', 'Rides_Concern', 'Tempcheck_Concern',\n",
              "       'Digitalline_Concern', 'EE_ROE', 'Potluck_ROE', 'Parade_ROE',\n",
              "       'Newhotel_ROE', 'Gender', 'Age', 'Country'],\n",
              "      dtype='object')"
            ]
          },
          "metadata": {
            "tags": []
          },
          "execution_count": 14
        }
      ]
    },
    {
      "cell_type": "code",
      "metadata": {
        "id": "hPTvliSAFe7B",
        "colab_type": "code",
        "colab": {
          "base_uri": "https://localhost:8080/",
          "height": 504
        },
        "outputId": "4ce087d2-61f8-446f-a631-9bf721b0ebd7"
      },
      "source": [
        "df.dtypes"
      ],
      "execution_count": 15,
      "outputs": [
        {
          "output_type": "execute_result",
          "data": {
            "text/plain": [
              "Visit_Year              int64\n",
              "Num_Adults              int64\n",
              "Num_Kids                int64\n",
              "Ticket_Source          object\n",
              "Ticket_Type            object\n",
              "Stay_Length            object\n",
              "Transport              object\n",
              "Digital_Assets         object\n",
              "Revisit_Concern         int64\n",
              "Top_One                object\n",
              "Top_Two                object\n",
              "Giftshop_Concern        int64\n",
              "F&B_Concern             int64\n",
              "Hotel_Concern           int64\n",
              "Themed_Concern          int64\n",
              "OSS_ROE                 int64\n",
              "Cast_Concern            int64\n",
              "Singlepath_Concern      int64\n",
              "Rides_Concern           int64\n",
              "Tempcheck_Concern       int64\n",
              "Digitalline_Concern     int64\n",
              "EE_ROE                  int64\n",
              "Potluck_ROE             int64\n",
              "Parade_ROE              int64\n",
              "Newhotel_ROE            int64\n",
              "Gender                 object\n",
              "Age                    object\n",
              "Country                object\n",
              "dtype: object"
            ]
          },
          "metadata": {
            "tags": []
          },
          "execution_count": 15
        }
      ]
    },
    {
      "cell_type": "code",
      "metadata": {
        "id": "1z5sZjEClxJz",
        "colab_type": "code",
        "colab": {}
      },
      "source": [
        "#Encoding the Top one & two choices\n",
        "lb_make = LabelEncoder()\n",
        "df[\"Top_One\"] = df[\"Top_One\"].fillna('Missing')\n",
        "df[\"Top_Two\"] = df[\"Top_Two\"].fillna('Missing')\n",
        "df[\"Top_One_En\"] = lb_make.fit_transform(df[\"Top_One\"])\n",
        "df[\"Top_Two_En\"] = lb_make.fit_transform(df[\"Top_Two\"])"
      ],
      "execution_count": 20,
      "outputs": []
    },
    {
      "cell_type": "markdown",
      "metadata": {
        "id": "MPHOr_0dVDZl",
        "colab_type": "text"
      },
      "source": [
        "### **Descriptive Analytics**"
      ]
    },
    {
      "cell_type": "code",
      "metadata": {
        "id": "zNzbPVweEMbp",
        "colab_type": "code",
        "colab": {
          "base_uri": "https://localhost:8080/",
          "height": 1000
        },
        "outputId": "0150c73f-11a6-4b12-f300-bbd631b982c7"
      },
      "source": [
        "#GENDER\n",
        "temp_series = df['Gender'].value_counts()\n",
        "labels = (np.array(temp_series.index))\n",
        "sizes = (np.array((temp_series / temp_series.sum())*100))\n",
        "\n",
        "figureObject, axesObject = plotter.subplots()\n",
        "axesObject.pie(sizes,\n",
        "        labels=labels,\n",
        "        autopct='%1.2f',\n",
        "        startangle=90)\n",
        "axesObject.axis('equal')\n",
        "plotter.show()\n",
        "\n",
        "#COUNTRY\n",
        "cnt_srs = df['Country'].value_counts().head(25)\n",
        "plt.figure(figsize=(8,12))\n",
        "sns.barplot(y=cnt_srs.index, x=cnt_srs.values, alpha=0.8)\n",
        "plt.xlabel('Number of respondents', fontsize=12)\n",
        "plt.ylabel('Country', fontsize=12)\n",
        "plt.title(\"Country wise number of respondents\", fontsize=15)\n",
        "plt.show()\n",
        "\n",
        "#AGE\n",
        "cnt_srs = df['Age'].value_counts()\n",
        "labels = (np.array(cnt_srs.index))\n",
        "sizes = (np.array((cnt_srs / cnt_srs.sum())*100))\n",
        "\n",
        "figureObject, axesObject = plotter.subplots()\n",
        "axesObject.pie(sizes,\n",
        "        labels=labels,\n",
        "        autopct='%1.2f',\n",
        "        startangle=90)\n",
        "axesObject.axis('equal')\n",
        "plotter.show()"
      ],
      "execution_count": 53,
      "outputs": [
        {
          "output_type": "display_data",
          "data": {
            "image/png": "[encoded data removed]",
            "text/plain": [
              "<Figure size 432x288 with 1 Axes>"
            ]
          },
          "metadata": {
            "tags": []
          }
        },
        {
          "output_type": "display_data",
          "data": {
            "image/png": "[encoded data removed]",
            "text/plain": [
              "<Figure size 576x864 with 1 Axes>"
            ]
          },
          "metadata": {
            "tags": [],
            "needs_background": "light"
          }
        },
        {
          "output_type": "display_data",
          "data": {
            "image/png": "[encoded data removed]",
            "text/plain": [
              "<Figure size 432x288 with 1 Axes>"
            ]
          },
          "metadata": {
            "tags": []
          }
        }
      ]
    },
    {
      "cell_type": "markdown",
      "metadata": {
        "id": "Z-_ro9rjVb2l",
        "colab_type": "text"
      },
      "source": [
        "### **Principal Component Analysis**\n",
        "We will use Principal Component Analysis (PCA) to do the dimensionality reduction. PCA can help us to identify patterns based on the correlation between features. To do this, we first select a list of “Active” input variables, to be used for the creation of the clusters. The remaining “Illustrative” variables will be used only for the interpretation of the clusters. "
      ]
    },
    {
      "cell_type": "code",
      "metadata": {
        "id": "hqUOkVV6pm9S",
        "colab_type": "code",
        "colab": {
          "base_uri": "https://localhost:8080/",
          "height": 34
        },
        "outputId": "8155b8ea-1767-45fe-c727-4cc2f4aa2793"
      },
      "source": [
        "X = df[['Top_One_En', 'Top_Two_En', 'Revisit_Concern','Giftshop_Concern', 'F&B_Concern',\n",
        "        'Hotel_Concern', 'Themed_Concern', 'OSS_ROE', 'Cast_Concern', 'Singlepath_Concern', \n",
        "        'Rides_Concern', 'Tempcheck_Concern', 'Digitalline_Concern', 'EE_ROE', 'Potluck_ROE', \n",
        "        'Parade_ROE', 'Newhotel_ROE']]\n",
        "pca = PCA(n_components = 2, random_state=1)\n",
        "X_pca = pca.fit_transform(X)\n",
        "pca.explained_variance_ratio_.cumsum()[1]"
      ],
      "execution_count": 30,
      "outputs": [
        {
          "output_type": "execute_result",
          "data": {
            "text/plain": [
              "0.46246210113194997"
            ]
          },
          "metadata": {
            "tags": []
          },
          "execution_count": 30
        }
      ]
    },
    {
      "cell_type": "markdown",
      "metadata": {
        "id": "Qt2et3yHZUz4",
        "colab_type": "text"
      },
      "source": [
        "One drawback of using PCA is the new features generated by PCA will have less variance than the original features. This means we might lose some information and lower the predictive power of our model. In our case, we only managed to preserve ~60% of the variance which is less than ideal.\n"
      ]
    },
    {
      "cell_type": "markdown",
      "metadata": {
        "id": "wh2IrEfGVsui",
        "colab_type": "text"
      },
      "source": [
        "### **Agglomerative Clustering**\n",
        "Agglomerative Clustering will assign each observation as individual cluster and merge those clusters based on their distance (similarity) pair by pair, iteratively. We will focus on Ward’s linkage algorithm which merges clusters that lead to minimum increase of Sum of Square Error (SSE)."
      ]
    },
    {
      "cell_type": "code",
      "metadata": {
        "id": "xjMUU2SKXIAr",
        "colab_type": "code",
        "colab": {
          "base_uri": "https://localhost:8080/",
          "height": 293
        },
        "outputId": "b20b354c-a9fe-4915-bd9c-d83baa280a79"
      },
      "source": [
        "from scipy.cluster.hierarchy import dendrogram, linkage\n",
        "dendrogram = dendrogram(linkage(X_pca, method = 'ward'))\n",
        "plt.title('Dendrogram')\n",
        "plt.xlabel('questions')\n",
        "plt.ylabel('Euclidean distances')\n",
        "plt.show()"
      ],
      "execution_count": 31,
      "outputs": [
        {
          "output_type": "display_data",
          "data": {
            "image/png": "[encoded data removed]",
            "text/plain": [
              "<Figure size 432x288 with 1 Axes>"
            ]
          },
          "metadata": {
            "tags": [],
            "needs_background": "light"
          }
        }
      ]
    },
    {
      "cell_type": "markdown",
      "metadata": {
        "id": "AVD5XCd7aT-0",
        "colab_type": "text"
      },
      "source": [
        "There are three colours : green, red and blue. This mean the best k number of clusters according to Ward’s linkage (method = ‘ward’) is three."
      ]
    },
    {
      "cell_type": "code",
      "metadata": {
        "id": "N9q0m5sAbgRs",
        "colab_type": "code",
        "colab": {}
      },
      "source": [
        "model = AgglomerativeClustering(n_clusters = 3, \n",
        "                          affinity ='euclidean', \n",
        "                          linkage ='ward')\n",
        "y = model.fit_predict(X)"
      ],
      "execution_count": 26,
      "outputs": []
    },
    {
      "cell_type": "markdown",
      "metadata": {
        "id": "qIMJ5N23V3-E",
        "colab_type": "text"
      },
      "source": [
        "### **Cluster Analysis**"
      ]
    },
    {
      "cell_type": "code",
      "metadata": {
        "id": "x-eyi0JBi0oj",
        "colab_type": "code",
        "colab": {}
      },
      "source": [
        "df['Cluster'] = y"
      ],
      "execution_count": 32,
      "outputs": []
    },
    {
      "cell_type": "code",
      "metadata": {
        "id": "LOi8q8xxi0r7",
        "colab_type": "code",
        "colab": {}
      },
      "source": [
        "df_cluster1 = df[df['Cluster']==0]\n",
        "df_cluster2 = df[df['Cluster']==1]\n",
        "df_cluster3 = df[df['Cluster']==3]"
      ],
      "execution_count": 33,
      "outputs": []
    },
    {
      "cell_type": "code",
      "metadata": {
        "id": "_ZzM39lMFHcR",
        "colab_type": "code",
        "colab": {
          "base_uri": "https://localhost:8080/",
          "height": 84
        },
        "outputId": "c3b033ce-a09c-4e20-930d-89c4d4d1b8de"
      },
      "source": [
        "y"
      ],
      "execution_count": 34,
      "outputs": [
        {
          "output_type": "execute_result",
          "data": {
            "text/plain": [
              "array([0, 2, 0, 2, 1, 1, 1, 2, 0, 0, 0, 2, 0, 1, 1, 2, 2, 2, 2, 0, 1, 1,\n",
              "       0, 2, 0, 2, 2, 2, 0, 1, 1, 0, 0, 1, 2, 2, 2, 2, 2, 0, 2, 0, 1, 1,\n",
              "       0, 0, 2, 0, 0, 0, 2, 0, 0, 2, 2, 0, 0, 0, 0, 0, 2, 2, 2, 2, 2, 2,\n",
              "       2, 0, 0, 2, 2, 0, 2, 0, 2, 1, 0, 0, 0, 0, 0, 0, 0])"
            ]
          },
          "metadata": {
            "tags": []
          },
          "execution_count": 34
        }
      ]
    },
    {
      "cell_type": "markdown",
      "metadata": {
        "id": "o2PaI_MDM5Tq",
        "colab_type": "text"
      },
      "source": [
        "# **FIN**"
      ]
    },
    {
      "cell_type": "markdown",
      "metadata": {
        "id": "Kg33bmsXV99a",
        "colab_type": "text"
      },
      "source": [
        "#### *Archived: KMeans* \n",
        "\n",
        "Since we have a mixture of scales and information, K-means (which assumes continuously distributed information only) is not an appropriate technique. KMeans always tries to make clusters of the same size. Also, we have to decide the number of clusters at the beginning of the algorithm. Instead we use traditional PCA. "
      ]
    },
    {
      "cell_type": "code",
      "metadata": {
        "id": "73M4t380dV5P",
        "colab_type": "code",
        "colab": {
          "base_uri": "https://localhost:8080/",
          "height": 279
        },
        "outputId": "4cb44937-af8c-4630-c0f8-9b4aff82b61a"
      },
      "source": [
        "distortions = []\n",
        "K_to_try = range(1, 6)\n",
        "\n",
        "for i in K_to_try:\n",
        "    model = KMeans(\n",
        "            n_clusters=i,\n",
        "            init='k-means++',\n",
        "            n_jobs=-1,\n",
        "            random_state=1)\n",
        "    model.fit(X_pca)\n",
        "    distortions.append(model.inertia_)\n",
        "plt.plot(K_to_try, distortions, marker='o')\n",
        "plt.xlabel('Number of Clusters (k)')\n",
        "plt.ylabel('Distortion')\n",
        "plt.show()"
      ],
      "execution_count": null,
      "outputs": [
        {
          "output_type": "display_data",
          "data": {
            "image/png": "[encoded data removed]",
            "text/plain": [
              "<Figure size 432x288 with 1 Axes>"
            ]
          },
          "metadata": {
            "tags": [],
            "needs_background": "light"
          }
        }
      ]
    },
    {
      "cell_type": "code",
      "metadata": {
        "id": "hZ_3QzIck8VA",
        "colab_type": "code",
        "colab": {}
      },
      "source": [
        "model = KMeans(\n",
        "    n_clusters=2,\n",
        "    init='k-means++',\n",
        "    n_jobs=-1,\n",
        "    random_state=1)\n",
        "\n",
        "model = model.fit(X_pca)\n",
        "\n",
        "y_kmeans = model.predict(X_pca)"
      ],
      "execution_count": null,
      "outputs": []
    },
    {
      "cell_type": "code",
      "metadata": {
        "id": "NiLhSFaCZ4q0",
        "colab_type": "code",
        "colab": {
          "base_uri": "https://localhost:8080/",
          "height": 295
        },
        "outputId": "3cee24b4-dddc-48ff-a355-4e6b5ee3c464"
      },
      "source": [
        "plt.scatter(X_pca[y_kmeans==0, 0], X_pca[y_kmeans==0, 1], s=100, c='red', label ='Cluster 1')\n",
        "plt.scatter(X_pca[y_kmeans==1, 0], X_pca[y_kmeans==1, 1], s=100, c='blue', label ='Cluster 2')\n",
        "plt.scatter(X_pca[y_kmeans==2, 0], X_pca[y_kmeans==2, 1], s=100, c='green', label ='Cluster 3')\n",
        "plt.scatter(X_pca[y_kmeans==3, 0], X_pca[y_kmeans==3, 1], s=100, c='cyan', label ='Cluster 4')\n",
        "plt.scatter(X_pca[y_kmeans==4, 0], X_pca[y_kmeans==4, 1], s=100, c='magenta', label ='Cluster 5')\n",
        "\n",
        "plt.scatter(model.cluster_centers_[:, 0], model.cluster_centers_[:, 1], s=300, c='yellow', label = 'Centroids')\n",
        "plt.title('Clusters of Customers')\n",
        "plt.xlabel('Annual Income(k$)')\n",
        "plt.ylabel('Spending Score(1-100')\n",
        "plt.show()"
      ],
      "execution_count": null,
      "outputs": [
        {
          "output_type": "display_data",
          "data": {
            "image/png": "[encoded data removed]",
            "text/plain": [
              "<Figure size 432x288 with 1 Axes>"
            ]
          },
          "metadata": {
            "tags": [],
            "needs_background": "light"
          }
        }
      ]
    },
    {
      "cell_type": "markdown",
      "metadata": {
        "id": "BQF6URp1ETMc",
        "colab_type": "text"
      },
      "source": [
        "#### *Archived: 'Complete' Linkage Method* "
      ]
    },
    {
      "cell_type": "code",
      "metadata": {
        "id": "yQJytVITapEc",
        "colab_type": "code",
        "colab": {
          "base_uri": "https://localhost:8080/",
          "height": 293
        },
        "outputId": "2e9cff03-8f55-4c93-84e9-fe0f118b17db"
      },
      "source": [
        "#Testing with a different linkage algorithm\n",
        "from scipy.cluster.hierarchy import dendrogram, linkage\n",
        "dendrogram = dendrogram(linkage(X_pca, method = 'complete'))\n",
        "plt.title('Dendrogram')\n",
        "plt.xlabel('questions')\n",
        "plt.ylabel('Euclidean distances')\n",
        "plt.show()"
      ],
      "execution_count": 23,
      "outputs": [
        {
          "output_type": "display_data",
          "data": {
            "image/png": "[encoded data removed]",
            "text/plain": [
              "<Figure size 432x288 with 1 Axes>"
            ]
          },
          "metadata": {
            "tags": [],
            "needs_background": "light"
          }
        }
      ]
    },
    {
      "cell_type": "markdown",
      "metadata": {
        "id": "E4LERTV-EvPm",
        "colab_type": "text"
      },
      "source": [
        "#### *Archived: Dendrogram with non-PCA data* "
      ]
    },
    {
      "cell_type": "code",
      "metadata": {
        "id": "jMP3Ah6Fcyqc",
        "colab_type": "code",
        "colab": {
          "base_uri": "https://localhost:8080/",
          "height": 293
        },
        "outputId": "d0cd2514-f30f-4197-b10b-a938d25c793f"
      },
      "source": [
        "#Testing with non-PCA data\n",
        "from scipy.cluster.hierarchy import dendrogram, linkage\n",
        "dendrogram = dendrogram(linkage(X, method = 'ward'))\n",
        "plt.title('Dendrogram')\n",
        "plt.xlabel('questions')\n",
        "plt.ylabel('Euclidean distances')\n",
        "plt.show()"
      ],
      "execution_count": 35,
      "outputs": [
        {
          "output_type": "display_data",
          "data": {
            "image/png": "[encoded data removed]",
            "text/plain": [
              "<Figure size 432x288 with 1 Axes>"
            ]
          },
          "metadata": {
            "tags": [],
            "needs_background": "light"
          }
        }
      ]
    }
  ]
}